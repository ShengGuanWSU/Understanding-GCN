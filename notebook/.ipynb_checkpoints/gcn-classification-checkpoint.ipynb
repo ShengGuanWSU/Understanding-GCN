{
 "cells": [
  {
   "cell_type": "code",
   "execution_count": 1,
   "metadata": {},
   "outputs": [
    {
     "name": "stderr",
     "output_type": "stream",
     "text": [
      "Matplotlib is building the font cache using fc-list. This may take a moment.\n"
     ]
    },
    {
     "name": "stdout",
     "output_type": "stream",
     "text": [
      "Populating the interactive namespace from numpy and matplotlib\n"
     ]
    }
   ],
   "source": [
    "%pylab inline\n",
    "\n",
    "%config InlineBackend.figure_format = 'retina'\n",
    "import sys\n",
    "sys.path.append('../src/')\n",
    "save_path=\"../\""
   ]
  },
  {
   "cell_type": "markdown",
   "metadata": {},
   "source": [
    "# Classifying ER vs BA or SBM"
   ]
  },
  {
   "cell_type": "code",
   "execution_count": 2,
   "metadata": {},
   "outputs": [
    {
     "name": "stderr",
     "output_type": "stream",
     "text": [
      "/Users/roseyu/anaconda3/lib/python3.6/site-packages/h5py/__init__.py:34: FutureWarning: Conversion of the second argument of issubdtype from `float` to `np.floating` is deprecated. In future, it will be treated as `np.float64 == np.dtype(float).type`.\n",
      "  from ._conv import register_converters as _register_converters\n"
     ]
    },
    {
     "name": "stdout",
     "output_type": "stream",
     "text": [
      "WARNING:tensorflow:From ../src/GraphConvNet.py:9: The name tf.InteractiveSession is deprecated. Please use tf.compat.v1.InteractiveSession instead.\n",
      "\n"
     ]
    },
    {
     "name": "stderr",
     "output_type": "stream",
     "text": [
      "Using TensorFlow backend.\n"
     ]
    }
   ],
   "source": [
    "import GraphConvNet as gcn\n",
    "import pickle as pk\n",
    "import os"
   ]
  },
  {
   "cell_type": "code",
   "execution_count": 3,
   "metadata": {
    "collapsed": true
   },
   "outputs": [],
   "source": [
    "from keras.utils import to_categorical"
   ]
  },
  {
   "cell_type": "markdown",
   "metadata": {},
   "source": [
    "# Modular GCN"
   ]
  },
  {
   "cell_type": "code",
   "execution_count": 4,
   "metadata": {
    "collapsed": true
   },
   "outputs": [],
   "source": [
    "import networkx as nx\n",
    "\n",
    "def make_BA_dataset(N,n,m=2):\n",
    "    adj = np.empty((N,n,n), dtype=np.float32)\n",
    "    for j in range(N):\n",
    "        g = nx.barabasi_albert_graph(n=n,m=m)\n",
    "        a = zeros((n,n), dtype=np.float32)\n",
    "        for i in g.edges:\n",
    "            a[i] = 1\n",
    "            a[i[::-1]] = 1\n",
    "        adj[j] = a\n",
    "    return adj\n",
    "\n",
    "def make_ER_dataset(N,n,p=0.1):\n",
    "    adj = np.empty((N,n,n), dtype=np.float32)\n",
    "    for j in range(N):\n",
    "        g = nx.erdos_renyi_graph(n=n, p=p)\n",
    "        a = zeros((n,n), dtype=np.float32)\n",
    "        for i in g.edges:\n",
    "            a[i] = 1\n",
    "            a[i[::-1]] = 1\n",
    "        adj[j] = a\n",
    "    return adj\n",
    "    \n",
    "        \n",
    "def mat_pow_batch(A,n):\n",
    "    \"\"\"batch matrix power\"\"\"\n",
    "    if n ==0:\n",
    "        return np.float32([np.eye(A.shape[1])])\n",
    "    M = A\n",
    "    for _ in range(n-1):\n",
    "        M = tf.matmul(A, M)\n",
    "    return M.eval()\n",
    "            "
   ]
  },
  {
   "cell_type": "code",
   "execution_count": 5,
   "metadata": {},
   "outputs": [
    {
     "data": {
      "text/plain": [
       "<matplotlib.image.AxesImage at 0x1834914668>"
      ]
     },
     "execution_count": 5,
     "metadata": {},
     "output_type": "execute_result"
    },
    {
     "data": {
      "image/png": "[encoded data removed]",
      "text/plain": [
       "<Figure size 432x288 with 1 Axes>"
      ]
     },
     "metadata": {
      "image/png": {
       "height": 248,
       "width": 261
      }
     },
     "output_type": "display_data"
    }
   ],
   "source": [
    "# X = make_BA_dataset(1000, 20)\n",
    "X = make_ER_dataset(10, 20, p = .2)\n",
    "imshow(X[0])"
   ]
  },
  {
   "cell_type": "markdown",
   "metadata": {},
   "source": [
    "# Make large, mixed dataset\n",
    "make a dataset of BA and ER mixed, with different densities"
   ]
  },
  {
   "cell_type": "code",
   "execution_count": 6,
   "metadata": {
    "collapsed": true
   },
   "outputs": [],
   "source": [
    "class Graph_dataset():\n",
    "    def __init__(self,n_nodes = 20, num_samples = int(2e3), num_graph_densities = 1, max_moment_order = 3,\n",
    "                 min_BA_density = 1, min_ER_density = 'auto' , max_BA_density = 0.5, max_ER_density = 0.5 ):\n",
    "        \n",
    "        self.label_classes = ['BA', 'ER']\n",
    "        if min_ER_density == 'auto':\n",
    "            min_ER_density = 1./n_nodes\n",
    "        \n",
    "        self._num_in_group = num_samples//(2*num_graph_densities)\n",
    "        \n",
    "        self.graph_params = {'BA' : int0(linspace(1, n_nodes* max_BA_density, num_graph_densities)),\n",
    "                  'ER' : linspace(min_ER_density, max_ER_density, num_graph_densities)}\n",
    "\n",
    "        self.Adj = {'BA' : concatenate([make_BA_dataset(self._num_in_group, n_nodes, m) for m in self.graph_params['BA']], axis = 0),\n",
    "                   'ER' : concatenate([make_ER_dataset(self._num_in_group, n_nodes, p) for p in self.graph_params['ER']], axis = 0)}\n",
    "\n",
    "        self.Adj_all = concatenate((self.Adj['BA'], self.Adj['ER']), axis = 0)\n",
    "        self.get_label_parameter()\n",
    "        self.get_graph_moments(n=max_moment_order)\n",
    "        self.h = np.ones_like(self.moments[1])\n",
    "\n",
    "    def get_label_parameter(self):\n",
    "        self.full_labels = []\n",
    "        for i,k in enumerate(self.label_classes):\n",
    "            for p in self.graph_params[k]:\n",
    "                self.full_labels += [[i,p]]*self._num_in_group\n",
    "\n",
    "    def get_rand_indices(self,):\n",
    "        self.rand_indices = np.argsort(np.random.rand(len(self.Adj_all)))\n",
    "\n",
    "    def get_graph_moments(self, n= 3):\n",
    "        self.moments = {1:self.Adj_all.sum(-1, keepdims=1)}\n",
    "        for i in range(2,n+1):\n",
    "            A = gcn.mat_pow_batch(self.Adj_all,i)\n",
    "            self.moments[i] = A.sum(-1, keepdims=1) \n",
    "    \n",
    "def shuffle_node_order(X):\n",
    "    Adj_nodes_shuffled = np.empty_like(X)\n",
    "    for i,a in enumerate(X):\n",
    "        # get random order\n",
    "        r = argsort(rand(len(a)))\n",
    "        Adj_nodes_shuffled[i] = a[r][:,r]\n",
    "    return Adj_nodes_shuffled"
   ]
  },
  {
   "cell_type": "markdown",
   "metadata": {},
   "source": [
    "## Configuration model by shuffling outgoing stubs\n",
    "If we just take the outgoing stubs (-1 in incidence), we are not changing the number of outgoing stubs, but reassigning them to other links. \n",
    "Can this ever cause more links? "
   ]
  },
  {
   "cell_type": "code",
   "execution_count": 7,
   "metadata": {
    "collapsed": true
   },
   "outputs": [],
   "source": [
    "def get_incidence(a):\n",
    "    \"\"\"make incidence matrix from adjacency matrix\"\"\"\n",
    "    ix = np.where(np.triu(a))\n",
    "    edg = array(list(zip(*ix)))\n",
    "    incid = np.zeros((len(a), len(edg)), dtype=np.float32)\n",
    "    for _,[i,j] in enumerate(edg): \n",
    "        incid[i,_] = 1\n",
    "        incid[j,_] = -1\n",
    "    return incid\n",
    "\n",
    "def incidence_shuffle(incid):\n",
    "    neg = np.where(incid < 0)\n",
    "    # preserve the rows, to preserve node degree, but shuffle columns, to shuffle links\n",
    "    np.random.shuffle(neg[1])\n",
    "    incid2 = 1.* (incid> 0 )\n",
    "    incid2[neg] -= 1\n",
    "    return incid2\n",
    "\n",
    "def configuration_model_1(a, weighted = True):\n",
    "    incid = get_incidence(a)\n",
    "    incid2 = incidence_shuffle(incid)\n",
    "    lap = incid2.dot(incid2.T)\n",
    "    deg = lap.diagonal() \n",
    "    a2 = np.diag(deg)-lap\n",
    "    if not weighted:\n",
    "        a2 = (1*(a2>0))\n",
    "    return a2\n",
    "\n",
    "# def make_data_config_model(X, weighted = True, shuffle_networks = False, shuffle_nodes = False):\n",
    "#     print(('Not s' if not shuffle else 'S')+'huffling order')\n",
    "#     dat = np.array([configuration_model_1(a, weighted) for a in X])\n",
    "#     dat = np.concatenate((X,dat))\n",
    "#     print('labels: {0:\"real\", 1:\"fake\"}')\n",
    "#     labels = np.zeros((2*len(X,)), dtype = np.float32)\n",
    "#     labels[len(X):] = 1\n",
    "#     if shuffle_networks:\n",
    "#         idx = np.argsort(np.random.rand(2*len(X)))\n",
    "#         dat = dat[idx]\n",
    "#         labels = labels[idx]\n",
    "#     if shuffle_nodes:\n",
    "#         dat = shuffle_node_order(dat)\n",
    "#     return dat, labels\n",
    "    \n",
    "def trim_mat(a,b):\n",
    "    \"\"\"remove random links from 'a' until it has the same number of links as 'b'\"\"\"\n",
    "    i = (a.sum(0)!= b.sum(0))\n",
    "    ms = i[:,np.newaxis]*i[np.newaxis]\n",
    "    masked_a = a*np.triu(ms)\n",
    "    ix = np.where(masked_a)\n",
    "    # num missing links\n",
    "    d = int(a.sum()-b.sum())//2\n",
    "    # randomly choose r indices to knockout\n",
    "    r = np.argsort(np.random.rand(len(ix[0])))[:d]\n",
    "    # make trimmed graph\n",
    "    c = triu(a) + 0.\n",
    "    for i in r:\n",
    "        c[ix[0][i],ix[1][i]]=0\n",
    "    c += c.T \n",
    "    return c\n",
    "    \n",
    "def make_data_config_model(X, weighted = True, shuffle_networks = False, shuffle_nodes = False, trim_links = False):\n",
    "    \"\"\" Create a Configuration Model ensemble from adjacency matrices in X (samples, N,N)\n",
    "    returns concatenate([X,config model of X]) , labels ([0 for X and 1 for Config model])\n",
    "    weighted: whether links in configuration model are allowed to be weighted \n",
    "        (leads to less discrepancy with X in total link weight)\n",
    "    shuffle_networks: whether output order should be shuffled (default False)\n",
    "        if False, the first half of the output are the original \n",
    "    shuffle_nodes: whether to shuffle node order (default False)\n",
    "    trim_links: whether to randomly remove links in X so that is has \n",
    "        the same number of links the Config. Model X. \n",
    "    \"\"\"\n",
    "    print(('Not s' if not shuffle else 'S')+'huffling order')\n",
    "    config = np.array([configuration_model_1(a, weighted) for a in X])\n",
    "    if trim_links:\n",
    "        print('trimming links')\n",
    "        trimmed_X = np.array([trim_mat(a,b) for a,b in zip(X,config)])\n",
    "        dat = np.concatenate((trimmed_X, config))\n",
    "    else:\n",
    "        dat = np.concatenate((X,config))\n",
    "    print('labels: {0:\"real\", 1:\"fake\"}')\n",
    "    labels = np.zeros((2*len(X,)), dtype = np.float32)\n",
    "    labels[len(X):] = 1\n",
    "    if shuffle_networks:\n",
    "        idx = np.argsort(np.random.rand(2*len(X)))\n",
    "        dat = dat[idx]\n",
    "        labels = labels[idx]\n",
    "    if shuffle_nodes:\n",
    "        dat = shuffle_node_order(dat)\n",
    "    return dat, labels"
   ]
  },
  {
   "cell_type": "code",
   "execution_count": 8,
   "metadata": {},
   "outputs": [
    {
     "data": {
      "text/plain": [
       "(5000, 40, 40)"
      ]
     },
     "execution_count": 8,
     "metadata": {},
     "output_type": "execute_result"
    }
   ],
   "source": [
    "n_list =  [10 ,15, 20, 30, 40,50, 60]\n",
    "n = n_list[-3] \n",
    "data = Graph_dataset(n_nodes=n, num_samples= int(5e3), num_graph_densities=5)\n",
    "data.get_rand_indices()\n",
    "\n",
    "data.Adj_all.shape"
   ]
  },
  {
   "cell_type": "code",
   "execution_count": 9,
   "metadata": {},
   "outputs": [
    {
     "data": {
      "text/plain": [
       "{'BA': array([ 1,  5, 10, 15, 20]),\n",
       " 'ER': array([0.025  , 0.14375, 0.2625 , 0.38125, 0.5    ])}"
      ]
     },
     "execution_count": 9,
     "metadata": {},
     "output_type": "execute_result"
    }
   ],
   "source": [
    "data.graph_params"
   ]
  },
  {
   "cell_type": "markdown",
   "metadata": {},
   "source": [
    "# BA vs ER"
   ]
  },
  {
   "cell_type": "code",
   "execution_count": 10,
   "metadata": {},
   "outputs": [
    {
     "data": {
      "text/plain": [
       "['BA', 'ER']"
      ]
     },
     "execution_count": 10,
     "metadata": {},
     "output_type": "execute_result"
    }
   ],
   "source": [
    "data.label_classes"
   ]
  },
  {
   "cell_type": "code",
   "execution_count": 11,
   "metadata": {},
   "outputs": [
    {
     "name": "stdout",
     "output_type": "stream",
     "text": [
      "../experiments/gcn_classification_grid_2_no_flatten/BA_vs_ER-N40_config_dataset-5000.pkl\n"
     ]
    }
   ],
   "source": [
    "GRAPH_TYPE = 'BA_vs_ER'\n",
    "EXP_DIR = '../experiments/gcn_classification_grid_2_no_flatten/'\n",
    "os.makedirs(EXP_DIR, exist_ok=True)\n",
    "\n",
    "RUN_FILE = './run_gcn_classification_v2.py'\n",
    "TRIMMED = False\n",
    "\n",
    "\n",
    "\n",
    "labels = to_categorical(array(data.full_labels)[:,0]) # first column is BA,ER, second col is parameter m or p \n",
    "\n",
    "dataset = {\n",
    "    'Adj':data.Adj_all, \n",
    "    'labels':labels,\n",
    "    'rand_indices':data.rand_indices \n",
    "}\n",
    "\n",
    "dataset_path = EXP_DIR+'%s-N%d_config_dataset-%d'\\\n",
    "        %(GRAPH_TYPE,data.Adj_all.shape[1] ,len(data.Adj_all)) + ('-trimmed' if TRIMMED else'')+'.pkl'\n",
    "print(dataset_path)\n",
    "pk.dump(dataset,open(dataset_path,'wb'))\n",
    "\n",
    "\n",
    "# SAVE_PATH = '../experiments/gcn_classification_grid/%s/' % GRAPH_TYPE\n",
    "SAVE_PATH = EXP_DIR+'%s_leaky_relu' % GRAPH_TYPE + ('-trimmed' if TRIMMED else'')+ '/'\n",
    "os.makedirs(SAVE_PATH, exist_ok=True)\n"
   ]
  },
  {
   "cell_type": "code",
   "execution_count": 12,
   "metadata": {},
   "outputs": [
    {
     "data": {
      "text/plain": [
       "(800.0, 766.0)"
      ]
     },
     "execution_count": 12,
     "metadata": {},
     "output_type": "execute_result"
    }
   ],
   "source": [
    "data.Adj['BA'][-1].sum(), data.Adj['ER'][-1].sum()"
   ]
  },
  {
   "cell_type": "markdown",
   "metadata": {},
   "source": [
    "# Config Model Classification"
   ]
  },
  {
   "cell_type": "code",
   "execution_count": 13,
   "metadata": {},
   "outputs": [
    {
     "name": "stdout",
     "output_type": "stream",
     "text": [
      "Shuffling order\n",
      "trimming links\n",
      "labels: {0:\"real\", 1:\"fake\"}\n",
      "../experiments/gcn_classification_grid_2_no_flatten/BA-N40_config_dataset-5000-trimmed.pkl\n"
     ]
    },
    {
     "data": {
      "text/plain": [
       "(0.0, 1.0)"
      ]
     },
     "execution_count": 13,
     "metadata": {},
     "output_type": "execute_result"
    },
    {
     "data": {
      "image/png": "[encoded data removed]",
      "text/plain": [
       "<Figure size 432x288 with 2 Axes>"
      ]
     },
     "metadata": {
      "image/png": {
       "height": 184,
       "width": 369
      }
     },
     "output_type": "display_data"
    }
   ],
   "source": [
    "\n",
    "GRAPH_TYPE = 'BA' \n",
    "# GRAPH_TYPE = 'ER'\n",
    "\n",
    "# EXP_DIR = '../experiments/gcn_classification_grid/'\n",
    "# RUN_FILE = './run_gcn_classification_v1.py'\n",
    "\n",
    "EXP_DIR = '../experiments/gcn_classification_grid_2_no_flatten/'\n",
    "RUN_FILE = './run_gcn_classification_v2.py'\n",
    "\n",
    "os.makedirs(EXP_DIR, exist_ok=True)\n",
    "\n",
    "TRIMMED = True\n",
    "# TRIMMED = False\n",
    "data_config, labels_config = make_data_config_model(data.Adj[GRAPH_TYPE], weighted=False, shuffle_nodes=True, trim_links=TRIMMED)\n",
    "\n",
    "idx = argsort(rand(len(data_config)))\n",
    "h = ones(data_config.shape[:2]+(1,))\n",
    "\n",
    "dataset = {\n",
    "    'Adj':data_config, \n",
    "    'labels':to_categorical(labels_config),\n",
    "    'rand_indices':idx \n",
    "}\n",
    "\n",
    "dataset_path = EXP_DIR+'%s-N%d_config_dataset-%d'\\\n",
    "        %(GRAPH_TYPE,data.Adj_all.shape[1] ,len(data_config)) + ('-trimmed' if TRIMMED else'')+'.pkl'\n",
    "print(dataset_path)\n",
    "pk.dump(dataset,open(dataset_path,'wb'))\n",
    "\n",
    "\n",
    "# SAVE_PATH = '../experiments/gcn_classification_grid/%s/' % GRAPH_TYPE\n",
    "SAVE_PATH = EXP_DIR+'%s_leaky_relu' % GRAPH_TYPE + ('-trimmed' if TRIMMED else'')+ '/'\n",
    "os.makedirs(SAVE_PATH, exist_ok=True)\n",
    "\n",
    "\n",
    "subplot(121)\n",
    "imshow(data_config[0])\n",
    "subplot(122)\n",
    "imshow(data_config[len(data.Adj[GRAPH_TYPE])])\n",
    "labels_config[0], labels_config[len(data.Adj[GRAPH_TYPE])]"
   ]
  },
  {
   "cell_type": "code",
   "execution_count": 14,
   "metadata": {},
   "outputs": [
    {
     "data": {
      "text/plain": [
       "(304.0, 304.0)"
      ]
     },
     "execution_count": 14,
     "metadata": {},
     "output_type": "execute_result"
    }
   ],
   "source": [
    "l = len(data_config)\n",
    "a = data_config[500]\n",
    "b = data_config[500+l//2]\n",
    "a.sum(), b.sum()"
   ]
  },
  {
   "cell_type": "markdown",
   "metadata": {},
   "source": [
    "# Run Experiments"
   ]
  },
  {
   "cell_type": "code",
   "execution_count": 15,
   "metadata": {},
   "outputs": [
    {
     "name": "stdout",
     "output_type": "stream",
     "text": [
      "./run_gcn_classification_v2.py\n"
     ]
    }
   ],
   "source": [
    "import os \n",
    "\n",
    "EPOCHS = 400\n",
    "\n",
    "ACT = {0: 'linear', \n",
    "       1: 'relu', \n",
    "       2: 'sigmoid',\n",
    "       3: 'tanh',\n",
    "      }\n",
    "\n",
    "activation = ACT[0]\n",
    "\n",
    "# units_per_layer = 2\n",
    "# bias = True\n",
    "skip = True\n",
    "\n",
    "params = {\n",
    "    'units': [], \n",
    "    'skip': skip, # whether to pass on skip layers to output\n",
    "    'activation': activation, # used for all layers\n",
    "#     'GCN_kws': {'use_bias': bias}, \n",
    "#     'dense_kws': {'use_bias': bias}, \n",
    "    'final_kws': {'units':10,}, #'activation': 'relu'}, \n",
    "    # linear activation is best for final layer\n",
    "         }\n",
    "\n",
    "print(RUN_FILE)\n",
    "for n_layer in range(1,6):\n",
    "    for units_per_layer in range(1,6,2):\n",
    "        params['units'] = [units_per_layer] * n_layer\n",
    "        os.system(RUN_FILE+''' %s \"%s\" %s %d &''' % ( dataset_path, params, SAVE_PATH , EPOCHS))\n"
   ]
  },
  {
   "cell_type": "markdown",
   "metadata": {},
   "source": [
    "# Config. Model vs Real "
   ]
  },
  {
   "cell_type": "code",
   "execution_count": 16,
   "metadata": {},
   "outputs": [
    {
     "name": "stderr",
     "output_type": "stream",
     "text": [
      "/Users/roseyu/anaconda3/lib/python3.6/site-packages/ipykernel_launcher.py:11: VisibleDeprecationWarning: Passing `normed=True` on non-uniform bins has always been broken, and computes neither the probability density function nor the probability mass function. The result is only correct if the bins are uniform, when density=True will produce the same result anyway. The argument will be removed in a future version of numpy.\n",
      "  # This is added back by InteractiveShellApp.init_path()\n",
      "/Users/roseyu/anaconda3/lib/python3.6/site-packages/ipykernel_launcher.py:12: VisibleDeprecationWarning: Passing `normed=True` on non-uniform bins has always been broken, and computes neither the probability density function nor the probability mass function. The result is only correct if the bins are uniform, when density=True will produce the same result anyway. The argument will be removed in a future version of numpy.\n",
      "  if sys.path[0] == '':\n"
     ]
    }
   ],
   "source": [
    "b= a.shape[0] # number of bins\n",
    "c = 100\n",
    "dif_real = {} \n",
    "for i in range(0,len(data_config)//2,c):\n",
    "    for j in range(i,len(data_config)//2,c):\n",
    "        for order in range(1,6):\n",
    "            m = matrix_power(data_config[i],order).sum(0)\n",
    "            md = matrix_power(data_config[j],order).sum(0)\n",
    "            \n",
    "            mn,mx = min(m.min(),md.min()), max(m.max(), md.max())\n",
    "            h, _ = histogram(m, b, range= (mn,mx), normed=True)\n",
    "            hd, _ = histogram(md, b, range= (mn,mx), normed=True)\n",
    "            dif_real[order] = dif_real.get(order,[]) + [abs(h.cumsum()-hd.cumsum()).max()]\n",
    "        "
   ]
  },
  {
   "cell_type": "code",
   "execution_count": 17,
   "metadata": {},
   "outputs": [
    {
     "name": "stderr",
     "output_type": "stream",
     "text": [
      "/Users/roseyu/anaconda3/lib/python3.6/site-packages/ipykernel_launcher.py:11: VisibleDeprecationWarning: Passing `normed=True` on non-uniform bins has always been broken, and computes neither the probability density function nor the probability mass function. The result is only correct if the bins are uniform, when density=True will produce the same result anyway. The argument will be removed in a future version of numpy.\n",
      "  # This is added back by InteractiveShellApp.init_path()\n",
      "/Users/roseyu/anaconda3/lib/python3.6/site-packages/ipykernel_launcher.py:12: VisibleDeprecationWarning: Passing `normed=True` on non-uniform bins has always been broken, and computes neither the probability density function nor the probability mass function. The result is only correct if the bins are uniform, when density=True will produce the same result anyway. The argument will be removed in a future version of numpy.\n",
      "  if sys.path[0] == '':\n"
     ]
    }
   ],
   "source": [
    "b= a.shape[0] # number of bins\n",
    "c = 100\n",
    "dif_fake = {} \n",
    "for i in range(0,len(data_config)//2,c):\n",
    "    for j in range(i+len(data_config)//2, len(data_config) ,c):\n",
    "        for order in range(1,6):\n",
    "            m = matrix_power(data_config[i],order).sum(0)\n",
    "            md = matrix_power(data_config[j],order).sum(0)\n",
    "            \n",
    "            mn,mx = min(m.min(),md.min()), max(m.max(), md.max())\n",
    "            h, _ = histogram(m, b, range= (mn,mx), normed=True)\n",
    "            hd, _ = histogram(md, b, range= (mn,mx), normed=True)\n",
    "            dif_fake[order] = dif_fake.get(order,[]) + [abs(h.cumsum()-hd.cumsum()).max()]\n",
    "        "
   ]
  },
  {
   "cell_type": "code",
   "execution_count": 18,
   "metadata": {},
   "outputs": [
    {
     "ename": "FileNotFoundError",
     "evalue": "[Errno 2] No such file or directory: '../figs/expressivity/GCN/configuration_model/gcn-config-KS-BA-1-row.pdf'",
     "output_type": "error",
     "traceback": [
      "\u001b[0;31m---------------------------------------------------------------------------\u001b[0m",
      "\u001b[0;31mFileNotFoundError\u001b[0m                         Traceback (most recent call last)",
      "\u001b[0;32m<ipython-input-18-9295ca87a74d>\u001b[0m in \u001b[0;36m<module>\u001b[0;34m()\u001b[0m\n\u001b[1;32m     11\u001b[0m     \u001b[0mtight_layout\u001b[0m\u001b[0;34m(\u001b[0m\u001b[0;34m)\u001b[0m\u001b[0;34m\u001b[0m\u001b[0m\n\u001b[1;32m     12\u001b[0m \u001b[0;34m\u001b[0m\u001b[0m\n\u001b[0;32m---> 13\u001b[0;31m \u001b[0msavefig\u001b[0m\u001b[0;34m(\u001b[0m\u001b[0;34m'../figs/expressivity/GCN/configuration_model/gcn-config-KS-BA-1-row.pdf'\u001b[0m\u001b[0;34m)\u001b[0m\u001b[0;34m\u001b[0m\u001b[0m\n\u001b[0m\u001b[1;32m     14\u001b[0m \u001b[0msavefig\u001b[0m\u001b[0;34m(\u001b[0m\u001b[0;34m'../figs/expressivity/GCN/configuration_model/gcn-config-KS-BA-1-row.png'\u001b[0m\u001b[0;34m,\u001b[0m \u001b[0mdpi\u001b[0m \u001b[0;34m=\u001b[0m \u001b[0;36m300\u001b[0m\u001b[0;34m)\u001b[0m\u001b[0;34m\u001b[0m\u001b[0m\n",
      "\u001b[0;32m/Users/roseyu/anaconda3/lib/python3.6/site-packages/matplotlib/pyplot.py\u001b[0m in \u001b[0;36msavefig\u001b[0;34m(*args, **kwargs)\u001b[0m\n\u001b[1;32m    720\u001b[0m \u001b[0;32mdef\u001b[0m \u001b[0msavefig\u001b[0m\u001b[0;34m(\u001b[0m\u001b[0;34m*\u001b[0m\u001b[0margs\u001b[0m\u001b[0;34m,\u001b[0m \u001b[0;34m**\u001b[0m\u001b[0mkwargs\u001b[0m\u001b[0;34m)\u001b[0m\u001b[0;34m:\u001b[0m\u001b[0;34m\u001b[0m\u001b[0m\n\u001b[1;32m    721\u001b[0m     \u001b[0mfig\u001b[0m \u001b[0;34m=\u001b[0m \u001b[0mgcf\u001b[0m\u001b[0;34m(\u001b[0m\u001b[0;34m)\u001b[0m\u001b[0;34m\u001b[0m\u001b[0m\n\u001b[0;32m--> 722\u001b[0;31m     \u001b[0mres\u001b[0m \u001b[0;34m=\u001b[0m \u001b[0mfig\u001b[0m\u001b[0;34m.\u001b[0m\u001b[0msavefig\u001b[0m\u001b[0;34m(\u001b[0m\u001b[0;34m*\u001b[0m\u001b[0margs\u001b[0m\u001b[0;34m,\u001b[0m \u001b[0;34m**\u001b[0m\u001b[0mkwargs\u001b[0m\u001b[0;34m)\u001b[0m\u001b[0;34m\u001b[0m\u001b[0m\n\u001b[0m\u001b[1;32m    723\u001b[0m     \u001b[0mfig\u001b[0m\u001b[0;34m.\u001b[0m\u001b[0mcanvas\u001b[0m\u001b[0;34m.\u001b[0m\u001b[0mdraw_idle\u001b[0m\u001b[0;34m(\u001b[0m\u001b[0;34m)\u001b[0m   \u001b[0;31m# need this if 'transparent=True' to reset colors\u001b[0m\u001b[0;34m\u001b[0m\u001b[0m\n\u001b[1;32m    724\u001b[0m     \u001b[0;32mreturn\u001b[0m \u001b[0mres\u001b[0m\u001b[0;34m\u001b[0m\u001b[0m\n",
      "\u001b[0;32m/Users/roseyu/anaconda3/lib/python3.6/site-packages/matplotlib/figure.py\u001b[0m in \u001b[0;36msavefig\u001b[0;34m(self, fname, transparent, **kwargs)\u001b[0m\n\u001b[1;32m   2178\u001b[0m             \u001b[0mself\u001b[0m\u001b[0;34m.\u001b[0m\u001b[0mpatch\u001b[0m\u001b[0;34m.\u001b[0m\u001b[0mset_visible\u001b[0m\u001b[0;34m(\u001b[0m\u001b[0mframeon\u001b[0m\u001b[0;34m)\u001b[0m\u001b[0;34m\u001b[0m\u001b[0m\n\u001b[1;32m   2179\u001b[0m \u001b[0;34m\u001b[0m\u001b[0m\n\u001b[0;32m-> 2180\u001b[0;31m         \u001b[0mself\u001b[0m\u001b[0;34m.\u001b[0m\u001b[0mcanvas\u001b[0m\u001b[0;34m.\u001b[0m\u001b[0mprint_figure\u001b[0m\u001b[0;34m(\u001b[0m\u001b[0mfname\u001b[0m\u001b[0;34m,\u001b[0m \u001b[0;34m**\u001b[0m\u001b[0mkwargs\u001b[0m\u001b[0;34m)\u001b[0m\u001b[0;34m\u001b[0m\u001b[0m\n\u001b[0m\u001b[1;32m   2181\u001b[0m \u001b[0;34m\u001b[0m\u001b[0m\n\u001b[1;32m   2182\u001b[0m         \u001b[0;32mif\u001b[0m \u001b[0mframeon\u001b[0m\u001b[0;34m:\u001b[0m\u001b[0;34m\u001b[0m\u001b[0m\n",
      "\u001b[0;32m/Users/roseyu/anaconda3/lib/python3.6/site-packages/matplotlib/backend_bases.py\u001b[0m in \u001b[0;36mprint_figure\u001b[0;34m(self, filename, dpi, facecolor, edgecolor, orientation, format, bbox_inches, **kwargs)\u001b[0m\n\u001b[1;32m   2080\u001b[0m                     \u001b[0morientation\u001b[0m\u001b[0;34m=\u001b[0m\u001b[0morientation\u001b[0m\u001b[0;34m,\u001b[0m\u001b[0;34m\u001b[0m\u001b[0m\n\u001b[1;32m   2081\u001b[0m                     \u001b[0mbbox_inches_restore\u001b[0m\u001b[0;34m=\u001b[0m\u001b[0m_bbox_inches_restore\u001b[0m\u001b[0;34m,\u001b[0m\u001b[0;34m\u001b[0m\u001b[0m\n\u001b[0;32m-> 2082\u001b[0;31m                     **kwargs)\n\u001b[0m\u001b[1;32m   2083\u001b[0m             \u001b[0;32mfinally\u001b[0m\u001b[0;34m:\u001b[0m\u001b[0;34m\u001b[0m\u001b[0m\n\u001b[1;32m   2084\u001b[0m                 \u001b[0;32mif\u001b[0m \u001b[0mbbox_inches\u001b[0m \u001b[0;32mand\u001b[0m \u001b[0mrestore_bbox\u001b[0m\u001b[0;34m:\u001b[0m\u001b[0;34m\u001b[0m\u001b[0m\n",
      "\u001b[0;32m/Users/roseyu/anaconda3/lib/python3.6/site-packages/matplotlib/backends/backend_pdf.py\u001b[0m in \u001b[0;36mprint_pdf\u001b[0;34m(self, filename, dpi, bbox_inches_restore, metadata, **kwargs)\u001b[0m\n\u001b[1;32m   2494\u001b[0m             \u001b[0mfile\u001b[0m \u001b[0;34m=\u001b[0m \u001b[0mfilename\u001b[0m\u001b[0;34m.\u001b[0m\u001b[0m_file\u001b[0m\u001b[0;34m\u001b[0m\u001b[0m\n\u001b[1;32m   2495\u001b[0m         \u001b[0;32melse\u001b[0m\u001b[0;34m:\u001b[0m\u001b[0;34m\u001b[0m\u001b[0m\n\u001b[0;32m-> 2496\u001b[0;31m             \u001b[0mfile\u001b[0m \u001b[0;34m=\u001b[0m \u001b[0mPdfFile\u001b[0m\u001b[0;34m(\u001b[0m\u001b[0mfilename\u001b[0m\u001b[0;34m,\u001b[0m \u001b[0mmetadata\u001b[0m\u001b[0;34m=\u001b[0m\u001b[0mmetadata\u001b[0m\u001b[0;34m)\u001b[0m\u001b[0;34m\u001b[0m\u001b[0m\n\u001b[0m\u001b[1;32m   2497\u001b[0m         \u001b[0;32mtry\u001b[0m\u001b[0;34m:\u001b[0m\u001b[0;34m\u001b[0m\u001b[0m\n\u001b[1;32m   2498\u001b[0m             \u001b[0mfile\u001b[0m\u001b[0;34m.\u001b[0m\u001b[0mnewPage\u001b[0m\u001b[0;34m(\u001b[0m\u001b[0mwidth\u001b[0m\u001b[0;34m,\u001b[0m \u001b[0mheight\u001b[0m\u001b[0;34m)\u001b[0m\u001b[0;34m\u001b[0m\u001b[0m\n",
      "\u001b[0;32m/Users/roseyu/anaconda3/lib/python3.6/site-packages/matplotlib/backends/backend_pdf.py\u001b[0m in \u001b[0;36m__init__\u001b[0;34m(self, filename, metadata)\u001b[0m\n\u001b[1;32m    430\u001b[0m         \u001b[0mself\u001b[0m\u001b[0;34m.\u001b[0m\u001b[0moriginal_file_like\u001b[0m \u001b[0;34m=\u001b[0m \u001b[0;32mNone\u001b[0m\u001b[0;34m\u001b[0m\u001b[0m\n\u001b[1;32m    431\u001b[0m         \u001b[0mself\u001b[0m\u001b[0;34m.\u001b[0m\u001b[0mtell_base\u001b[0m \u001b[0;34m=\u001b[0m \u001b[0;36m0\u001b[0m\u001b[0;34m\u001b[0m\u001b[0m\n\u001b[0;32m--> 432\u001b[0;31m         \u001b[0mfh\u001b[0m\u001b[0;34m,\u001b[0m \u001b[0mopened\u001b[0m \u001b[0;34m=\u001b[0m \u001b[0mcbook\u001b[0m\u001b[0;34m.\u001b[0m\u001b[0mto_filehandle\u001b[0m\u001b[0;34m(\u001b[0m\u001b[0mfilename\u001b[0m\u001b[0;34m,\u001b[0m \u001b[0;34m\"wb\"\u001b[0m\u001b[0;34m,\u001b[0m \u001b[0mreturn_opened\u001b[0m\u001b[0;34m=\u001b[0m\u001b[0;32mTrue\u001b[0m\u001b[0;34m)\u001b[0m\u001b[0;34m\u001b[0m\u001b[0m\n\u001b[0m\u001b[1;32m    433\u001b[0m         \u001b[0;32mif\u001b[0m \u001b[0;32mnot\u001b[0m \u001b[0mopened\u001b[0m\u001b[0;34m:\u001b[0m\u001b[0;34m\u001b[0m\u001b[0m\n\u001b[1;32m    434\u001b[0m             \u001b[0;32mtry\u001b[0m\u001b[0;34m:\u001b[0m\u001b[0;34m\u001b[0m\u001b[0m\n",
      "\u001b[0;32m/Users/roseyu/anaconda3/lib/python3.6/site-packages/matplotlib/cbook/__init__.py\u001b[0m in \u001b[0;36mto_filehandle\u001b[0;34m(fname, flag, return_opened, encoding)\u001b[0m\n\u001b[1;32m    430\u001b[0m             \u001b[0mfh\u001b[0m \u001b[0;34m=\u001b[0m \u001b[0mbz2\u001b[0m\u001b[0;34m.\u001b[0m\u001b[0mBZ2File\u001b[0m\u001b[0;34m(\u001b[0m\u001b[0mfname\u001b[0m\u001b[0;34m,\u001b[0m \u001b[0mflag\u001b[0m\u001b[0;34m)\u001b[0m\u001b[0;34m\u001b[0m\u001b[0m\n\u001b[1;32m    431\u001b[0m         \u001b[0;32melse\u001b[0m\u001b[0;34m:\u001b[0m\u001b[0;34m\u001b[0m\u001b[0m\n\u001b[0;32m--> 432\u001b[0;31m             \u001b[0mfh\u001b[0m \u001b[0;34m=\u001b[0m \u001b[0mopen\u001b[0m\u001b[0;34m(\u001b[0m\u001b[0mfname\u001b[0m\u001b[0;34m,\u001b[0m \u001b[0mflag\u001b[0m\u001b[0;34m,\u001b[0m \u001b[0mencoding\u001b[0m\u001b[0;34m=\u001b[0m\u001b[0mencoding\u001b[0m\u001b[0;34m)\u001b[0m\u001b[0;34m\u001b[0m\u001b[0m\n\u001b[0m\u001b[1;32m    433\u001b[0m         \u001b[0mopened\u001b[0m \u001b[0;34m=\u001b[0m \u001b[0;32mTrue\u001b[0m\u001b[0;34m\u001b[0m\u001b[0m\n\u001b[1;32m    434\u001b[0m     \u001b[0;32melif\u001b[0m \u001b[0mhasattr\u001b[0m\u001b[0;34m(\u001b[0m\u001b[0mfname\u001b[0m\u001b[0;34m,\u001b[0m \u001b[0;34m'seek'\u001b[0m\u001b[0;34m)\u001b[0m\u001b[0;34m:\u001b[0m\u001b[0;34m\u001b[0m\u001b[0m\n",
      "\u001b[0;31mFileNotFoundError\u001b[0m: [Errno 2] No such file or directory: '../figs/expressivity/GCN/configuration_model/gcn-config-KS-BA-1-row.pdf'"
     ]
    },
    {
     "data": {
      "image/png": "[encoded data removed]",
      "text/plain": [
       "<Figure size 1152x216 with 4 Axes>"
      ]
     },
     "metadata": {
      "image/png": {
       "height": 206,
       "width": 1142
      }
     },
     "output_type": "display_data"
    }
   ],
   "source": [
    "figure(figsize = (16,3))\n",
    "for k in sorted(dif_real)[:-1]:\n",
    "    subplot(1,4,k)\n",
    "    [h,hd],bns,_ = matplotlib.pyplot.hist([dif_real[k],dif_fake[k] ], b, label = ['real-real','real-fake'], log = 1, alpha = 1, density=True)\n",
    "    title('Moment %d, KS test, BA Config.'%k)\n",
    "    xlabel('KS test value',fontsize = 12)\n",
    "    if k == 1:\n",
    "        ylabel('Density',fontsize = 12)\n",
    "    plot([mean(dif_real[k])]*2, [min(h), 1.2*max(h)], lw = 3 , c = 'k', ls = '--', label ='mean real')\n",
    "    legend()\n",
    "    tight_layout()\n",
    "    \n",
    "savefig(save_path+'gcn-config-KS-BA-1-row.pdf')\n",
    "savefig(save_path+'gcn-config-KS-BA-1-row.png', dpi = 300)"
   ]
  },
  {
   "cell_type": "code",
   "execution_count": null,
   "metadata": {},
   "outputs": [],
   "source": [
    "figure(figsize = (12,8))\n",
    "for k in sorted(dif_real)[:-1]:\n",
    "    subplot(2,2,k)\n",
    "    [h,hd],bns,_ = hist([dif_real[k],dif_fake[k] ], b, label = ['real-real','real-fake'], log = 1, alpha = 1, density=True)\n",
    "    title('Moment %d, KS test, BA Config. Model'%k)\n",
    "    xlabel('KS test value',fontsize = 12)\n",
    "    ylabel('Density',fontsize = 12)\n",
    "    plot([mean(dif_real[k])]*2, [min(h), 1.2*max(h)], lw = 3 , c = 'k', ls = '--', label ='mean real')\n",
    "    legend()\n",
    "    tight_layout()\n",
    "    \n",
    "savefig(save_path+'gcn-config-KS-BA.pdf')\n",
    "savefig(save_path+'gcn-config-KS-BA.png', dpi = 300)"
   ]
  },
  {
   "cell_type": "code",
   "execution_count": null,
   "metadata": {
    "collapsed": true
   },
   "outputs": [],
   "source": [
    "i = 100\n",
    "a = data_config[i+5]\n",
    "ad = data_config[i] #+len(data_config)//2]"
   ]
  },
  {
   "cell_type": "code",
   "execution_count": null,
   "metadata": {},
   "outputs": [],
   "source": [
    "a.shape"
   ]
  },
  {
   "cell_type": "code",
   "execution_count": null,
   "metadata": {
    "collapsed": true
   },
   "outputs": [],
   "source": [
    "from scipy.stats import kstest"
   ]
  },
  {
   "cell_type": "code",
   "execution_count": null,
   "metadata": {
    "collapsed": true
   },
   "outputs": [],
   "source": [
    "m, md = moments[-1], moments_config[-1]"
   ]
  },
  {
   "cell_type": "code",
   "execution_count": null,
   "metadata": {
    "collapsed": true
   },
   "outputs": [],
   "source": [
    "b = 20\n",
    "h = histogram(m, b)\n",
    "hd = histogram(md, b)"
   ]
  },
  {
   "cell_type": "code",
   "execution_count": null,
   "metadata": {
    "collapsed": true
   },
   "outputs": [],
   "source": [
    "dif = []\n",
    "b= 20\n",
    "for i, (m, md) in enumerate(zip( moments, moments_config)):\n",
    "    mn,mx = min(m.min(),md.min()), max(m.max(), md.max())\n",
    "    h, _ = histogram(m, b, range= (mn,mx), normed=True)\n",
    "    hd, _ = histogram(md, b, range= (mn,mx), normed=True)\n",
    "#     [h,hd], bns, p = hist([m,md],20, density=1,)# cumulative=1);\n",
    "#     show()\n",
    "    #dif+= [[i+1,abs(h-hd).max()]]\n",
    "    dif+= [[i+1,abs(h.cumsum()-hd.cumsum()).max()]]\n",
    "#     plt.clf()"
   ]
  },
  {
   "cell_type": "code",
   "execution_count": null,
   "metadata": {},
   "outputs": [],
   "source": [
    "dif = [] \n",
    "for i, (m, md) in enumerate(zip( moments, moments_config)):\n",
    "    [h,hd], bns, p = hist([m,md],20, density=1,)# cumulative=1);\n",
    "#     show()\n",
    "    #dif+= [[i+1,abs(h-hd).max()]]\n",
    "    dif+= [[i+1,abs(h.cumsum()-hd.cumsum()).max()]]\n",
    "    plt.clf()"
   ]
  },
  {
   "cell_type": "code",
   "execution_count": null,
   "metadata": {},
   "outputs": [],
   "source": [
    "a.shape[0]**(arange(1,6)/2)"
   ]
  },
  {
   "cell_type": "code",
   "execution_count": null,
   "metadata": {},
   "outputs": [],
   "source": [
    "plot(*array(dif).T)\n",
    "xlabel('moment order')\n",
    "ylabel('KS difference')"
   ]
  },
  {
   "cell_type": "code",
   "execution_count": null,
   "metadata": {},
   "outputs": [],
   "source": [
    "dif"
   ]
  },
  {
   "cell_type": "code",
   "execution_count": null,
   "metadata": {},
   "outputs": [],
   "source": [
    "hd"
   ]
  },
  {
   "cell_type": "code",
   "execution_count": null,
   "metadata": {},
   "outputs": [],
   "source": [
    "abs(h-hd).max()"
   ]
  },
  {
   "cell_type": "code",
   "execution_count": null,
   "metadata": {},
   "outputs": [],
   "source": [
    "abs(h.cumsum()-hd.cumsum()).max()"
   ]
  },
  {
   "cell_type": "code",
   "execution_count": null,
   "metadata": {},
   "outputs": [],
   "source": [
    "moments = []\n",
    "moments_config = []\n",
    "n = a.shape[0]\n",
    "for i in range(1,6):\n",
    "    moments += [matrix_power(a,i).sum(0)/ n**(0)]\n",
    "    moments_config += [matrix_power(ad,i).sum(0)/ n**(0)]\n",
    "    figure(figsize=(13,4))\n",
    "    subplot(131, aspect = 1)\n",
    "    plot(sorted(moments[-1]),sorted(moments_config[-1]), 'o', alpha = 0.5)\n",
    "    title( 'Moment %d' %i)\n",
    "    xlabel('BA')\n",
    "    ylabel('Config BA')\n",
    "    xscale('log')\n",
    "    yscale('log')\n",
    "    \n",
    "    subplot(132)\n",
    "    plot(sorted(moments[-1]),label='BA')\n",
    "    plot(sorted(moments_config[-1]), label='Config BA')\n",
    "    subplot(133)\n",
    "    hist([moments[-1], moments_config[-1]],label=['BA','Config BA'])\n",
    "    legend()\n",
    "    show()\n",
    "    "
   ]
  },
  {
   "cell_type": "markdown",
   "metadata": {},
   "source": [
    "# Config. Model Classification results"
   ]
  },
  {
   "cell_type": "code",
   "execution_count": null,
   "metadata": {
    "collapsed": true
   },
   "outputs": [],
   "source": [
    "from glob import glob"
   ]
  },
  {
   "cell_type": "code",
   "execution_count": null,
   "metadata": {},
   "outputs": [],
   "source": [
    "pth = SAVE_PATH\n",
    "# pth = '../experiments/gcn_classification_grid_2_no_flatten/BA_vs_ER_leaky_relu/'\n",
    "# pth = '../experiments/gcn_classification_grid_2_no_flatten/BA_leaky_relu-trimmed/'\n",
    "# pth = '../experiments/gcn_classification_grid_2_no_flatten/BA_leaky_relu/'\n",
    "\n",
    "res = glob(pth + '/gcn*.pkl')\n",
    "# res = glob( '../experiments/gcn_classification_grid_2_no_flatten/BA_leaky_relu/gcn*.pkl')\n",
    "\n",
    "len(res)"
   ]
  },
  {
   "cell_type": "code",
   "execution_count": null,
   "metadata": {
    "collapsed": true
   },
   "outputs": [],
   "source": [
    "# res"
   ]
  },
  {
   "cell_type": "code",
   "execution_count": null,
   "metadata": {},
   "outputs": [],
   "source": [
    "SAVE_PATH"
   ]
  },
  {
   "cell_type": "code",
   "execution_count": null,
   "metadata": {},
   "outputs": [],
   "source": [
    "# n = 50\n",
    "a = 3\n",
    "num = round(len(res)/ a)\n",
    "\n",
    "figure(figsize=(4*a, num*3))\n",
    "i = 0\n",
    "for r in sorted(res):\n",
    "#     if int(r.split('-N')[1].split('-')[0]) != n:\n",
    "#         continue\n",
    "    n = int(r.split('-N')[1].split('-')[0])\n",
    "    subplot(num,a,i+1)\n",
    "    i+=1\n",
    "    g = pk.load(open(r, 'rb'))\n",
    "    n_lay = len(g['params']['units'])\n",
    "    act = g['params']['activation']\n",
    "    results.setdefault(act, {})\n",
    "    u = g['params']['units'][0]\n",
    "    for k in ['acc', 'val_acc']:\n",
    "        plot(g['history'][k], label = k)\n",
    "\n",
    "    legend()\n",
    "    title('N=%d, %d Lays, %d units, val. acc %.3g' %(n,n_lay, u, max(g['history']['val_acc'])))\n",
    "#     title(r.split('-N')[1].split('-activation')[0].strip('.pkl')+'\\n max val %.3g' % max(g['history']['val_acc']) )\n",
    "    grid()\n",
    "    tight_layout()\n",
    "    \n",
    "show()"
   ]
  },
  {
   "cell_type": "code",
   "execution_count": null,
   "metadata": {
    "collapsed": true
   },
   "outputs": [],
   "source": [
    "# mkdir ../figs/expressivity/GCN/configuration_model/"
   ]
  },
  {
   "cell_type": "code",
   "execution_count": null,
   "metadata": {},
   "outputs": [],
   "source": [
    "SAVE_PATH"
   ]
  },
  {
   "cell_type": "code",
   "execution_count": null,
   "metadata": {},
   "outputs": [],
   "source": [
    "typ = pth.strip('/').split('/')[-1]\n",
    "\n",
    "config_dir = '../figs/expressivity/GCN/configuration_model/' \n",
    "# config_dir = '../figs/expressivity/GCN/%s/' %(typ.strip('_leaky_relu'))  \n",
    "os.makedirs(config_dir, exist_ok=True)\n",
    "config_dir\n"
   ]
  },
  {
   "cell_type": "code",
   "execution_count": null,
   "metadata": {},
   "outputs": [],
   "source": [
    "typ"
   ]
  },
  {
   "cell_type": "code",
   "execution_count": null,
   "metadata": {
    "collapsed": true
   },
   "outputs": [],
   "source": [
    "\n",
    "figs_config = glob('../figs/expressivity/GCN/gcn-config*')\n",
    "for f in figs_config:\n",
    "    os.system('mv %s %s'%(f, config_dir))"
   ]
  },
  {
   "cell_type": "code",
   "execution_count": null,
   "metadata": {},
   "outputs": [],
   "source": [
    "typ = pth.strip('/').split('/')[-1]\n",
    "cols = dict(enumerate(mpl.colors.TABLEAU_COLORS))\n",
    "\n",
    "# stl = ['-','--', ':']\n",
    "figure(figsize=(10,6))\n",
    "for ii,n in enumerate(n_list):\n",
    "    if n==40:continue\n",
    "    results = {}\n",
    "    for r in res:\n",
    "        if int(r.split('-N')[1].split('-')[0]) != n:\n",
    "            continue\n",
    "    #     print(r)\n",
    "        g = pk.load(open(r, 'rb'))\n",
    "        \n",
    "        n_lay = len(g['params']['units'])\n",
    "        act = g['params']['activation']\n",
    "        results.setdefault(act, {})\n",
    "        u = g['params']['units'][0]\n",
    "        results[act][u] = results[act].get(u,[]) +[[n_lay,max(g['history']['val_acc'])]]\n",
    "\n",
    "\n",
    "    for a in results:\n",
    "        r1 = results[a]\n",
    "        results[a] = {k: array(results[a][k])[argsort(array(results[a][k])[:,0])] for k in results[a]}\n",
    "        \n",
    "    for a in results:\n",
    "        r1 = results[a]\n",
    "        for i1,k in enumerate(sorted(r1)):\n",
    "            plot(*r1[k][:-1].T, label = 'N=%d, u=%d' %(n,k), #ls= stl[i1],#marker = '.',\n",
    "                 lw=1.5*k**1.2 , alpha= 1-tanh(k/10), c= cols[ii])\n",
    "        t = ('%s vs Configuration Model' %typ.split('_')[0] if '_vs_' not in typ else typ.strip('_leaky_relu').replace('_', ' '))\n",
    "        title('%s GCN activation, %s' %(a.capitalize(), t) + (', pruned' if '-trimmed' in res[0] else ''), size=16 )\n",
    "        xlabel('# layers', size = 14)\n",
    "        ylabel('Test accuracy', size = 14)\n",
    "        xticks(arange(1,6),fontsize=12)\n",
    "#         if ylim()[0] >0.95:\n",
    "#             ylim(0.95,1.01)\n",
    "#         ylim(0.75,1.01)\n",
    "#         legend(ncol=5)\n",
    "\n",
    "legend(fontsize= 12)\n",
    "grid()\n",
    "\n",
    "tight_layout()\n",
    "\n",
    "nam = config_dir+'gcn-1-%s-All'%(typ) + ('-trimmed' if '-trimmed' in res[0] else '')\n",
    "print(nam)\n",
    "\n",
    "savefig(nam +'.pdf')\n",
    "savefig(nam +'.png', dpi=300)\n",
    "        \n",
    "#         show()\n"
   ]
  },
  {
   "cell_type": "code",
   "execution_count": null,
   "metadata": {},
   "outputs": [],
   "source": [
    "columns = {v:k for k,v in enumerate(['n','layers','units','val_acc','activation'])}\n",
    "full_res = []\n",
    "for r in res:\n",
    "    g = pk.load(open(r, 'rb'))\n",
    "    \n",
    "    l = [None]*len(columns)\n",
    "    l[columns['n']] = int(r.split('-N')[1].split('-')[0])\n",
    "    l[columns['layers']] = len(g['params']['units'])\n",
    "    l[columns['activation']] = g['params']['activation']\n",
    "    results.setdefault(act, {})\n",
    "    l[columns['units']] = g['params']['units'][0]\n",
    "    l[columns['val_acc']] = max(g['history']['val_acc'])\n",
    "#     if l[columns['n']]== 20: \n",
    "#         print('hi')\n",
    "#         continue\n",
    "    full_res += [l]\n",
    "    \n",
    "full_res = array(full_res)\n",
    "\n",
    "\n",
    "s = set(full_res[:, columns['activation']])\n",
    "results = {a: np.float32(full_res[where(full_res[:, columns['activation']]==a)[0], :-1]) for a in s}\n",
    "\n",
    "r = results['linear']\n",
    "stats = {}\n",
    "for l in set(r[:,columns['layers']]):\n",
    "    for u in set(r[:,columns['units']]):\n",
    "        ix = where((r[:,columns['layers']]==l) * (r[:,columns['units']]==u))[0]\n",
    "        k = (l,u)\n",
    "        stats[k] = r[ix][:,[columns['n'],columns['val_acc']]]\n",
    "        #stats[k] = stats.get(k, []) + [[r[columns['n']], r[columns['val_acc']]]]\n",
    "\n",
    "\n",
    "# type of graphs\n",
    "typ = pth.strip('/').split('/')[-1] \n",
    "\n",
    "cols = dict(enumerate(mpl.colors.TABLEAU_COLORS))\n",
    "\n",
    "figure(figsize=(10,6))\n",
    "for k in sorted(stats):\n",
    "#     print(k)\n",
    "    a = array(stats[k])\n",
    "    l,u = k\n",
    "    if l==5: continue\n",
    "    plot(*a[argsort(a[:,0])].T, label = 'L=%d, u=%d' %k, lw=1.2*u**1.2 , alpha= 1-tanh(u/10), c = cols[l])\n",
    "\n",
    "legend(ncol = 4,fontsize=12)\n",
    "# ylim(.8,1.01)\n",
    "xlabel('# of nodes in graph', size = 14)    \n",
    "ylabel('Test Accuracy',size = 14)\n",
    "\n",
    "t = ('%s vs Configuration Model' %typ.split('_')[0] if '_vs_' not in typ else typ.strip('_leaky_relu').replace('_', ' '))\n",
    "title('Accuracy of GCN modular architectures in classifying %s'%(t),size=16 )\n",
    "nam = config_dir+'/gcn-1-%s-architecture_vs_nodes' %typ\n",
    "print(nam)\n",
    "grid()\n",
    "tight_layout()\n",
    "\n",
    "savefig(nam +'.pdf')\n",
    "savefig(nam +'.png', dpi=300)"
   ]
  },
  {
   "cell_type": "code",
   "execution_count": null,
   "metadata": {
    "collapsed": true
   },
   "outputs": [],
   "source": []
  },
  {
   "cell_type": "code",
   "execution_count": null,
   "metadata": {},
   "outputs": [],
   "source": [
    "typ = pth.strip('/').split('/')[-1]\n",
    "cols = dict(enumerate(mpl.colors.TABLEAU_COLORS))\n",
    "\n",
    "# stl = ['-','--', ':']\n",
    "figure(figsize=(10,6))\n",
    "for ii,n in enumerate(n_list):\n",
    "    results = {}\n",
    "    for r in res:\n",
    "        if int(r.split('-N')[1].split('-')[0]) != n:\n",
    "            continue\n",
    "    #     print(r)\n",
    "        g = pk.load(open(r, 'rb'))\n",
    "        n_lay = len(g['params']['units'])\n",
    "        act = g['params']['activation']\n",
    "        results.setdefault(act, {})\n",
    "        u = g['params']['units'][0]\n",
    "        results[act][u] = results[act].get(u,[]) +[[n_lay,max(g['history']['val_acc'])]]\n",
    "\n",
    "\n",
    "    for a in results:\n",
    "        r1 = results[a]\n",
    "        results[a] = {k: array(results[a][k])[argsort(array(results[a][k])[:,0])] for k in results[a]}\n",
    "        \n",
    "    for a in results:\n",
    "        r1 = results[a]\n",
    "        for i1,k in enumerate(sorted(r1)):\n",
    "            plot(*r1[k][:-1].T, label = '%d nodes, %d units' %(n,k), #ls= stl[i1],#marker = '.',\n",
    "                 lw=1.5*k**1.2 , alpha= 1-tanh(k/10), c= cols[ii])\n",
    "        t = ('%s vs Configuration Model' %typ.split('_')[0] if '_vs_' not in typ else typ.strip('_leaky_relu').replace('_', ' '))\n",
    "        title('%d nodes, %s GCN activation, %s' %(n,a.capitalize(), t) + (', pruned' if '-trimmed' in res[0] else '') )\n",
    "        xlabel('# layers', size = 12)\n",
    "        ylabel('Test accuracy', size = 12)\n",
    "        xticks(arange(1,6),fontsize=8)\n",
    "        if ylim()[0] >0.95:\n",
    "            ylim(0.95,1.01)\n",
    "        legend()\n",
    "        grid()\n",
    "        \n",
    "        tight_layout()\n",
    "        \n",
    "nam = config_dir+'gcn-%s-All'%(typ) + ('-trimmed' if '-trimmed' in res[0] else '')\n",
    "print(nam)\n",
    "# savefig(nam +'.pdf')\n",
    "# savefig(nam +'.png', dpi=300)\n",
    "        \n",
    "#         show()\n"
   ]
  },
  {
   "cell_type": "code",
   "execution_count": null,
   "metadata": {},
   "outputs": [],
   "source": [
    "typ = pth.strip('/').split('/')[-1]\n",
    "cols = dict(enumerate(mpl.colors.TABLEAU_COLORS))\n",
    "\n",
    "# stl = ['-','--', ':']\n",
    "figure(figsize=(10,6))\n",
    "for ii,n in enumerate(n_list):\n",
    "    results = {}\n",
    "    for r in res:\n",
    "        if int(r.split('-N')[1].split('-')[0]) != n:\n",
    "            continue\n",
    "    #     print(r)\n",
    "        g = pk.load(open(r, 'rb'))\n",
    "        n_lay = len(g['params']['units'])\n",
    "        act = g['params']['activation']\n",
    "        results.setdefault(act, {})\n",
    "        u = g['params']['units'][0]\n",
    "        results[act][u] = results[act].get(u,[]) +[[n_lay,max(g['history']['val_acc'])]]\n",
    "\n",
    "\n",
    "    for a in results:\n",
    "        r1 = results[a]\n",
    "        results[a] = {k: array(results[a][k])[argsort(array(results[a][k])[:,0])] for k in results[a]}\n",
    "        \n",
    "    for a in results:\n",
    "        r1 = results[a]\n",
    "        for i1,k in enumerate(sorted(r1)):\n",
    "            plot(*r1[k][:-1].T, label = 'N=%d, u=%d' %(n,k), #ls= stl[i1],#marker = '.',\n",
    "                 lw=1.5*k**1.2 , alpha= 1-tanh(k/10), c= cols[ii])\n",
    "        t = ('%s vs Configuration Model' %typ.split('_')[0] if '_vs_' not in typ else typ.strip('_leaky_relu').replace('_', ' '))\n",
    "        title('%s GCN activation, %s' %(a.capitalize(), t) + (', pruned' if '-trimmed' in res[0] else ''), size=16 )\n",
    "        xlabel('# layers', size = 14)\n",
    "        ylabel('Test accuracy', size = 14)\n",
    "        xticks(arange(1,6),fontsize=12)\n",
    "#         if ylim()[0] >0.95:\n",
    "#             ylim(0.95,1.01)\n",
    "#         ylim(0.75,1.01)\n",
    "#         legend(ncol=5)\n",
    "        legend(fontsize= 12)\n",
    "        grid()\n",
    "        \n",
    "        tight_layout()\n",
    "        \n",
    "nam = config_dir+'gcn-1-%s-All'%(typ) + ('-trimmed' if '-trimmed' in res[0] else '')\n",
    "print(nam)\n",
    "# savefig(nam +'.pdf')\n",
    "# savefig(nam +'.png', dpi=300)\n",
    "        \n",
    "#         show()\n"
   ]
  },
  {
   "cell_type": "code",
   "execution_count": null,
   "metadata": {},
   "outputs": [],
   "source": [
    "typ = pth.strip('/').split('/')[-1]\n",
    "cols = dict(enumerate(mpl.colors.TABLEAU_COLORS))\n",
    "\n",
    "figure(figsize=(10,6))\n",
    "for ii,n in enumerate(n_list):\n",
    "    results = {}\n",
    "    for r in res:\n",
    "        if int(r.split('-N')[1].split('-')[0]) != n:\n",
    "            continue\n",
    "    #     print(r)\n",
    "        g = pk.load(open(r, 'rb'))\n",
    "        n_lay = len(g['params']['units'])\n",
    "        act = g['params']['activation']\n",
    "        results.setdefault(act, {})\n",
    "        u = g['params']['units'][0]\n",
    "        results[act][u] = results[act].get(u,[]) +[[n_lay,max(g['history']['val_acc'])]]\n",
    "\n",
    "\n",
    "    for a in results:\n",
    "        r1 = results[a]\n",
    "        results[a] = {k: array(results[a][k])[argsort(array(results[a][k])[:,0])] for k in results[a]}\n",
    "        \n",
    "    for a in results:\n",
    "        r1 = results[a]\n",
    "        for k in sorted(r1):\n",
    "            plot(*r1[k][:-1].T, label = '%d nodes, %d units' %(n,k), marker = '.', lw= k**.7, c= cols[ii])\n",
    "        t = ('%s vs Configuration Model' %typ.split('_')[0] if '_vs_' not in typ else typ.strip('_leaky_relu').replace('_', ' '))\n",
    "        title('%d nodes, %s GCN activation, %s' %(n,a.capitalize(), t) + (', pruned' if '-trimmed' in res[0] else '') )\n",
    "        xlabel('# layers', size = 12)\n",
    "        ylabel('Test accuracy', size = 12)\n",
    "        xticks(arange(1,6))\n",
    "        if ylim()[0] >0.95:\n",
    "            ylim(0.95,1.01)\n",
    "        legend()\n",
    "        grid()\n",
    "        \n",
    "        tight_layout()\n",
    "#     nam = config_dir+'gcn-%s-N%d'%(typ,n) + ('-trimmed' if '-trimmed' in res[0] else '')\n",
    "#     print(nam)\n",
    "#         savefig(nam +'.pdf')\n",
    "#         savefig(nam +'.png', dpi=300)\n",
    "        \n",
    "#         show()\n"
   ]
  },
  {
   "cell_type": "code",
   "execution_count": null,
   "metadata": {},
   "outputs": [],
   "source": [
    "typ = pth.strip('/').split('/')[-1]\n",
    "\n",
    "for n in n_list:\n",
    "    results = {}\n",
    "\n",
    "    for r in res:\n",
    "        if int(r.split('-N')[1].split('-')[0]) != n:\n",
    "            continue\n",
    "    #     print(r)\n",
    "        g = pk.load(open(r, 'rb'))\n",
    "        n_lay = len(g['params']['units'])\n",
    "        act = g['params']['activation']\n",
    "        results.setdefault(act, {})\n",
    "        u = g['params']['units'][0]\n",
    "        results[act][u] = results[act].get(u,[]) +[[n_lay,max(g['history']['val_acc'])]]\n",
    "\n",
    "\n",
    "    for a in results:\n",
    "        r1 = results[a]\n",
    "        results[a] = {k: array(results[a][k])[argsort(array(results[a][k])[:,0])] for k in results[a]}\n",
    "        \n",
    "    for a in results:\n",
    "        r1 = results[a]\n",
    "        for k in sorted(r1):\n",
    "            plot(*r1[k][:-1].T, label = '%d units' %k, marker = '.')\n",
    "        t = ('%s vs Configuration Model' %typ.split('_')[0] if '_vs_' not in typ else typ.strip('_leaky_relu').replace('_', ' '))\n",
    "        title('%d nodes, %s GCN activation, %s' %(n,a.capitalize(), t) + (', pruned' if '-trimmed' in res[0] else '') )\n",
    "        xlabel('# layers', size = 12)\n",
    "        ylabel('Test accuracy', size = 12)\n",
    "        xticks(arange(1,6))\n",
    "        if ylim()[0] >0.95:\n",
    "            ylim(0.95,1.01)\n",
    "        legend()\n",
    "        grid()\n",
    "        \n",
    "        tight_layout()\n",
    "        nam = config_dir+'gcn-%s-N%d'%(typ,n) + ('-trimmed' if '-trimmed' in res[0] else '')\n",
    "        print(nam)\n",
    "        savefig(nam +'.pdf')\n",
    "        savefig(nam +'.png', dpi=300)\n",
    "        \n",
    "        show()\n"
   ]
  },
  {
   "cell_type": "code",
   "execution_count": null,
   "metadata": {
    "collapsed": true
   },
   "outputs": [],
   "source": [
    "columns = {v:k for k,v in enumerate(['n','layers','units','val_acc','activation'])}\n",
    "full_res = []\n",
    "for r in res:\n",
    "    g = pk.load(open(r, 'rb'))\n",
    "    \n",
    "    l = [None]*len(columns)\n",
    "    l[columns['n']] = int(r.split('-N')[1].split('-')[0])\n",
    "    l[columns['layers']] = len(g['params']['units'])\n",
    "    l[columns['activation']] = g['params']['activation']\n",
    "    results.setdefault(act, {})\n",
    "    l[columns['units']] = g['params']['units'][0]\n",
    "    l[columns['val_acc']] = max(g['history']['val_acc'])\n",
    "    full_res += [l]\n",
    "    \n",
    "full_res = array(full_res)"
   ]
  },
  {
   "cell_type": "code",
   "execution_count": null,
   "metadata": {
    "collapsed": true
   },
   "outputs": [],
   "source": [
    "s = set(full_res[:, columns['activation']])\n",
    "results = {a: np.float32(full_res[where(full_res[:, columns['activation']]==a)[0], :-1]) for a in s}\n",
    "\n",
    "r = results['linear']\n",
    "stats = {}\n",
    "for l in set(r[:,columns['layers']]):\n",
    "    for u in set(r[:,columns['units']]):\n",
    "        ix = where((r[:,columns['layers']]==l) * (r[:,columns['units']]==u))[0]\n",
    "        k = (l,u)\n",
    "        stats[k] = r[ix][:,[columns['n'],columns['val_acc']]]\n",
    "        #stats[k] = stats.get(k, []) + [[r[columns['n']], r[columns['val_acc']]]]\n"
   ]
  },
  {
   "cell_type": "code",
   "execution_count": null,
   "metadata": {},
   "outputs": [],
   "source": [
    "# type of graphs\n",
    "typ = pth.strip('/').split('/')[-1] \n",
    "\n",
    "cols = dict(enumerate(mpl.colors.TABLEAU_COLORS))\n",
    "\n",
    "figure(figsize=(10,6))\n",
    "for k in sorted(stats):\n",
    "#     print(k)\n",
    "    a = array(stats[k])\n",
    "    l,u = k\n",
    "    if l==5: continue\n",
    "    plot(*a[argsort(a[:,0])].T, label = 'L=%d, u=%d' %k, lw=1.2*u**1.2 , alpha= 1-tanh(u/10), c = cols[l])\n",
    "\n",
    "legend(ncol = 4,fontsize=12)\n",
    "ylim(.8,1.01)\n",
    "xlabel('# of nodes in graph', size = 14)    \n",
    "ylabel('Test Accuracy',size = 14)\n",
    "\n",
    "t = ('%s vs Configuration Model' %typ.split('_')[0] if '_vs_' not in typ else typ.strip('_leaky_relu').replace('_', ' '))\n",
    "title('Accuracy of GCN modular architectures in classifying %s'%(t),size=16 )\n",
    "nam = config_dir+'/gcn-1-%s-architecture_vs_nodes' %typ\n",
    "print(nam)\n",
    "grid()\n",
    "tight_layout()\n",
    "\n",
    "savefig(nam +'.pdf')\n",
    "savefig(nam +'.png', dpi=300)"
   ]
  },
  {
   "cell_type": "code",
   "execution_count": null,
   "metadata": {},
   "outputs": [],
   "source": [
    "# type of graphs\n",
    "typ = pth.strip('/').split('/')[-1] \n",
    "\n",
    "cols = dict(enumerate(mpl.colors.TABLEAU_COLORS))\n",
    "\n",
    "figure(figsize=(10,6))\n",
    "for k in sorted(stats):\n",
    "#     print(k)\n",
    "    a = array(stats[k])\n",
    "    l,u = k\n",
    "    if l==5: continue\n",
    "    plot(*a[argsort(a[:,0])].T, label = '%d lay, %d unit' %k, lw = (u)**.7, c = cols[l])\n",
    "\n",
    "legend(ncol = 4)\n",
    "ylim(.8,1.01)\n",
    "xlabel('# of nodes in graph', size = 12)    \n",
    "ylabel('Test Accuracy',size = 12)\n",
    "t = ('%s vs Configuration Model' %typ.split('_')[0] if '_vs_' not in typ else typ.strip('_leaky_relu').replace('_', ' '))\n",
    "title('Accuracy of GCN modular architectures in classifying %s'%(t) )\n",
    "nam = config_dir+'/gcn-%s-architecture_vs_nodes' %typ\n",
    "print(nam)\n",
    "grid()\n",
    "tight_layout()\n",
    "\n",
    "savefig(nam +'.pdf')\n",
    "savefig(nam +'.png', dpi=300)"
   ]
  },
  {
   "cell_type": "code",
   "execution_count": null,
   "metadata": {},
   "outputs": [],
   "source": [
    "typ = pth.strip('/').split('/')[-1]\n",
    "\n",
    "for n in n_list:\n",
    "    results = {}\n",
    "\n",
    "    for r in res:\n",
    "        if int(r.split('-N')[1].split('-')[0]) != n:\n",
    "            continue\n",
    "    #     print(r)\n",
    "        g = pk.load(open(r, 'rb'))\n",
    "        n_lay = len(g['params']['units'])\n",
    "        act = g['params']['activation']\n",
    "        results.setdefault(act, {})\n",
    "        u = g['params']['units'][0]\n",
    "        results[act][u] = results[act].get(u,[]) +[[n_lay,max(g['history']['val_acc'])]]\n",
    "\n",
    "\n",
    "    for a in results:\n",
    "        r1 = results[a]\n",
    "        results[a] = {k: array(results[a][k])[argsort(array(results[a][k])[:,0])] for k in results[a]}\n",
    "        \n",
    "    for a in results:\n",
    "        r1 = results[a]\n",
    "        for k in sorted(r1):\n",
    "            plot(*r1[k].T, label = '%d units' %k, marker = '.')\n",
    "        title('%d nodes, %s GCN activation' %(n,a.capitalize()) + (', pruned' if '-trimmed' in res[0] else '') )\n",
    "        xlabel('# layers', size = 12)\n",
    "        ylabel('validation accuracy', size = 12)\n",
    "        xticks(arange(1,6))\n",
    "    #     ylim(0.5,1)\n",
    "        legend()\n",
    "        grid()\n",
    "        \n",
    "        tight_layout()\n",
    "#         nam = '../figs/expressivity/GCN/configuration_model/gcn-config-%s-N%d'%(typ,n) + ('-trimmed' if '-trimmed' in res[0] else '')\n",
    "        print(nam)\n",
    "#         savefig(nam +'.pdf')\n",
    "#         savefig(nam +'.png', dpi=300)\n",
    "        \n",
    "        show()\n"
   ]
  },
  {
   "cell_type": "code",
   "execution_count": null,
   "metadata": {},
   "outputs": [],
   "source": [
    "typ = pth.strip('/').split('/')[-1]\n",
    "cols = dict(enumerate(mpl.colors.TABLEAU_COLORS))\n",
    "\n",
    "# stl = ['-','--', ':']\n",
    "figure(figsize=(10,6))\n",
    "for ii,n in enumerate(n_list):\n",
    "    if n==20 or n==60: continue\n",
    "    results = {}\n",
    "    for r in res:\n",
    "        if int(r.split('-N')[1].split('-')[0]) != n:\n",
    "            continue\n",
    "    #     print(r)\n",
    "        g = pk.load(open(r, 'rb'))\n",
    "        n_lay = len(g['params']['units'])\n",
    "        act = g['params']['activation']\n",
    "        results.setdefault(act, {})\n",
    "        u = g['params']['units'][0]\n",
    "        results[act][u] = results[act].get(u,[]) +[[n_lay,max(g['history']['val_acc'])]]\n",
    "\n",
    "\n",
    "    for a in results:\n",
    "        r1 = results[a]\n",
    "        results[a] = {k: array(results[a][k])[argsort(array(results[a][k])[:,0])] for k in results[a]}\n",
    "        \n",
    "    for a in results:\n",
    "        r1 = results[a]\n",
    "        for i1,k in enumerate(sorted(r1)):\n",
    "            plot(*r1[k][:-1].T, label = 'N=%d, u=%d' %(n,k), #ls= stl[i1],#marker = '.',\n",
    "                 lw=1.5*k**1.2 , alpha= 1-tanh(k/10), c= cols[ii])\n",
    "        t = ('%s vs Configuration Model' %typ.split('_')[0] if '_vs_' not in typ else typ.strip('_leaky_relu').replace('_', ' '))\n",
    "        title('%s GCN activation, %s' %(a.capitalize(), t) + (', pruned' if '-trimmed' in res[0] else ''), size=16 )\n",
    "        xlabel('# layers', size = 14)\n",
    "        ylabel('Test accuracy', size = 14)\n",
    "        xticks(arange(1,6),fontsize=12)\n",
    "#         if ylim()[0] >0.95:\n",
    "#             ylim(0.95,1.01)\n",
    "#         ylim(0.75,1.01)\n",
    "#         legend(ncol=5)\n",
    "        legend(fontsize= 12)\n",
    "        grid()\n",
    "        \n",
    "        tight_layout()\n",
    "        \n",
    "nam = config_dir+'gcn-1-%s-All'%(typ) + ('-trimmed' if '-trimmed' in res[0] else '')\n",
    "print(nam)\n",
    "savefig(nam +'.pdf')\n",
    "savefig(nam +'.png', dpi=300)\n",
    "        \n",
    "#         show()\n"
   ]
  },
  {
   "cell_type": "code",
   "execution_count": null,
   "metadata": {},
   "outputs": [],
   "source": [
    "typ = pth.strip('/').split('/')[-1]\n",
    "cols = dict(enumerate(mpl.colors.TABLEAU_COLORS))\n",
    "\n",
    "# stl = ['-','--', ':']\n",
    "figure(figsize=(10,6))\n",
    "for ii,n in enumerate(n_list):\n",
    "    if n==15 or n==60: continue\n",
    "    results = {}\n",
    "    for r in res:\n",
    "        if int(r.split('-N')[1].split('-')[0]) != n:\n",
    "            continue\n",
    "    #     print(r)\n",
    "        g = pk.load(open(r, 'rb'))\n",
    "        n_lay = len(g['params']['units'])\n",
    "        act = g['params']['activation']\n",
    "        results.setdefault(act, {})\n",
    "        u = g['params']['units'][0]\n",
    "        results[act][u] = results[act].get(u,[]) +[[n_lay,max(g['history']['val_acc'])]]\n",
    "\n",
    "\n",
    "    for a in results:\n",
    "        r1 = results[a]\n",
    "        results[a] = {k: array(results[a][k])[argsort(array(results[a][k])[:,0])] for k in results[a]}\n",
    "        \n",
    "    for a in results:\n",
    "        r1 = results[a]\n",
    "        for i1,k in enumerate(sorted(r1)):\n",
    "            plot(*r1[k][:-1].T, label = '%d nodes, %d units' %(n,k), #ls= stl[i1],#marker = '.',\n",
    "                 lw=1.5*k**1.2 , alpha= 1-tanh(k/10), c= cols[ii])\n",
    "        t = ('%s vs Configuration Model' %typ.split('_')[0] if '_vs_' not in typ else typ.strip('_leaky_relu').replace('_', ' '))\n",
    "        title('%d nodes, %s GCN activation, %s' %(n,a.capitalize(), t) + (', pruned' if '-trimmed' in res[0] else '') )\n",
    "        xlabel('# layers', size = 12)\n",
    "        ylabel('Test accuracy', size = 12)\n",
    "        xticks(arange(1,6),fontsize=8)\n",
    "        if ylim()[0] >0.95:\n",
    "            ylim(0.95,1.01)\n",
    "        legend()\n",
    "        grid()\n",
    "        \n",
    "        tight_layout()\n",
    "        \n",
    "nam = config_dir+'gcn-%s-All'%(typ) + ('-trimmed' if '-trimmed' in res[0] else '')\n",
    "print(nam)\n",
    "savefig(nam +'.pdf')\n",
    "savefig(nam +'.png', dpi=300)\n",
    "        \n",
    "#         show()\n"
   ]
  },
  {
   "cell_type": "markdown",
   "metadata": {},
   "source": [
    "# plot single arch performance for various num nodes"
   ]
  },
  {
   "cell_type": "code",
   "execution_count": null,
   "metadata": {
    "collapsed": true
   },
   "outputs": [],
   "source": [
    "columns = {v:k for k,v in enumerate(['n','layers','units','val_acc','activation'])}\n",
    "full_res = []\n",
    "for r in res:\n",
    "    g = pk.load(open(r, 'rb'))\n",
    "    \n",
    "    l = [None]*len(columns)\n",
    "    l[columns['n']] = int(r.split('-N')[1].split('-')[0])\n",
    "    l[columns['layers']] = len(g['params']['units'])\n",
    "    l[columns['activation']] = g['params']['activation']\n",
    "    results.setdefault(act, {})\n",
    "    l[columns['units']] = g['params']['units'][0]\n",
    "    l[columns['val_acc']] = max(g['history']['val_acc'])\n",
    "#     if l[columns['n']]== 20: \n",
    "#         print('hi')\n",
    "#         continue\n",
    "    full_res += [l]\n",
    "    \n",
    "full_res = array(full_res)"
   ]
  },
  {
   "cell_type": "code",
   "execution_count": null,
   "metadata": {
    "collapsed": true
   },
   "outputs": [],
   "source": [
    "s = set(full_res[:, columns['activation']])\n",
    "results = {a: np.float32(full_res[where(full_res[:, columns['activation']]==a)[0], :-1]) for a in s}\n",
    "\n",
    "r = results['linear']\n",
    "stats = {}\n",
    "for l in set(r[:,columns['layers']]):\n",
    "    for u in set(r[:,columns['units']]):\n",
    "        ix = where((r[:,columns['layers']]==l) * (r[:,columns['units']]==u))[0]\n",
    "        k = (l,u)\n",
    "        stats[k] = r[ix][:,[columns['n'],columns['val_acc']]]\n",
    "        #stats[k] = stats.get(k, []) + [[r[columns['n']], r[columns['val_acc']]]]\n"
   ]
  },
  {
   "cell_type": "code",
   "execution_count": null,
   "metadata": {
    "collapsed": true
   },
   "outputs": [],
   "source": [
    "# full_res"
   ]
  },
  {
   "cell_type": "code",
   "execution_count": null,
   "metadata": {},
   "outputs": [],
   "source": [
    "# type of graphs\n",
    "typ = pth.strip('/').split('/')[-1] \n",
    "\n",
    "cols = dict(enumerate(mpl.colors.TABLEAU_COLORS))\n",
    "\n",
    "figure(figsize=(10,6))\n",
    "for k in sorted(stats):\n",
    "#     print(k)\n",
    "    a = array(stats[k])\n",
    "    l,u = k\n",
    "    if l==5: continue\n",
    "    plot(*a[argsort(a[:,0])].T, label = 'L=%d, u=%d' %k, lw=1.2*u**1.2 , alpha= 1-tanh(u/10), c = cols[l])\n",
    "\n",
    "legend(ncol = 4,fontsize=12)\n",
    "# ylim(.8,1.01)\n",
    "xlabel('# of nodes in graph', size = 14)    \n",
    "ylabel('Test Accuracy',size = 14)\n",
    "\n",
    "t = ('%s vs Configuration Model' %typ.split('_')[0] if '_vs_' not in typ else typ.strip('_leaky_relu').replace('_', ' '))\n",
    "title('Accuracy of GCN modular architectures in classifying %s'%(t),size=16 )\n",
    "nam = config_dir+'/gcn-1-%s-architecture_vs_nodes' %typ\n",
    "print(nam)\n",
    "grid()\n",
    "tight_layout()\n",
    "\n",
    "savefig(nam +'.pdf')\n",
    "savefig(nam +'.png', dpi=300)"
   ]
  },
  {
   "cell_type": "code",
   "execution_count": null,
   "metadata": {},
   "outputs": [],
   "source": [
    "# type of graphs\n",
    "typ = pth.strip('/').split('/')[-1] \n",
    "\n",
    "cols = dict(enumerate(mpl.colors.TABLEAU_COLORS))\n",
    "\n",
    "figure(figsize=(10,6))\n",
    "for k in sorted(stats):\n",
    "#     print(k)\n",
    "    a = array(stats[k])\n",
    "    l,u = k\n",
    "    if l==5: continue\n",
    "    plot(*a[argsort(a[:,0])].T, label = '%d lay, %d unit' %k, lw = (u)**.7, c = cols[l])\n",
    "\n",
    "legend(ncol = 4)\n",
    "ylim(.7,0.98)\n",
    "xlabel('# of nodes in graph', size = 12)    \n",
    "ylabel('Validation Accuracy',size = 12)\n",
    "t = ('%s vs Configuration Model' %typ.split('_')[0] if '_vs_' not in typ else typ.replace('_', ' '))\n",
    "title('Accuracy of GCN modular architectures in classifying %s'%(t) )\n",
    "nam = config_dir+'/gcn-%s-architecture_vs_nodes' %typ\n",
    "print(nam)\n",
    "grid()\n",
    "tight_layout()\n",
    "\n",
    "# savefig(nam +'.pdf')\n",
    "# savefig(nam +'.png', dpi=300)"
   ]
  },
  {
   "cell_type": "markdown",
   "metadata": {},
   "source": [
    "# Tensorboard"
   ]
  },
  {
   "cell_type": "code",
   "execution_count": null,
   "metadata": {
    "collapsed": true
   },
   "outputs": [],
   "source": [
    "from keras.callbacks import TensorBoard"
   ]
  },
  {
   "cell_type": "code",
   "execution_count": null,
   "metadata": {},
   "outputs": [],
   "source": [
    "lays = 3\n",
    "units = 2\n",
    "units_final = 5\n",
    "\n",
    "params = {'units': [units]*lays , 'activation': 'linear','skip':True, \n",
    "          'final_kws': {'units': units_final,'activation': 'linear'}, }\n",
    "    \n",
    "Adjacencies = data_config\n",
    "h = np.ones(Adjacencies.shape[:2]+(1,))\n",
    "labels = to_categorical(labels_config)\n",
    "\n",
    "indices = idx\n",
    "\n",
    "# import GraphConvNet as gcn\n",
    "\n",
    "gcn_model = gcn.MultiGCN(input_shape= h[0].shape, **params)\n",
    "    \n",
    "# use leaky ReLU on the last layer\n",
    "ac = gcn.layers.LeakyReLU(alpha = 0.3)(gcn_model.model.output)\n",
    "# classification_layer = gcn.Dense(len(labels[0]), activation='softmax')( gcn.layers.Flatten()( ac ) )\n",
    "# classification_layer = gcn.Dense(len(labels[0]), activation='softmax')( gcn.layers.Flatten()( gcn_model.model.output ) )\n",
    "\n",
    "den1 = gcn.Dense(len(labels[0]), activation='softmax')( ac ) # has dims N x out channels must sum over N\n",
    "# make layer to average over nodes\n",
    "Avg_Nodes = gcn.layers.Lambda(lambda x: gcn.K.mean(x,axis = 1))\n",
    "classification_layer = Avg_Nodes(den1)\n",
    "\n",
    "model = gcn.Model(inputs = gcn_model.model.inputs, outputs = [classification_layer] )\n",
    "model.compile(optimizer='adam', loss = 'categorical_crossentropy' ,metrics=['accuracy'])\n",
    "\n",
    "model.summary()\n",
    "\n",
    "# gcn_model.history = gcn.EpochHistory(metrics=['acc','val_acc']) \n",
    "# gcn_model.model = model"
   ]
  },
  {
   "cell_type": "code",
   "execution_count": null,
   "metadata": {
    "collapsed": true
   },
   "outputs": [],
   "source": [
    "from time import time"
   ]
  },
  {
   "cell_type": "code",
   "execution_count": null,
   "metadata": {
    "collapsed": true
   },
   "outputs": [],
   "source": [
    "tenbo = TensorBoard(\"logs/{}\".format(time()))"
   ]
  },
  {
   "cell_type": "code",
   "execution_count": null,
   "metadata": {},
   "outputs": [],
   "source": [
    "model.fit([Adjacencies, h], [labels], callbacks=[tenbo], epochs=50)"
   ]
  },
  {
   "cell_type": "code",
   "execution_count": null,
   "metadata": {},
   "outputs": [],
   "source": [
    "typ = pth.strip('/').split('/')[-1]\n",
    "\n",
    "for n in [10,20,40]:\n",
    "    \n",
    "    results = {}\n",
    "    \n",
    "    for r in res:\n",
    "        if int(r.split('-N')[1].split('-')[0]) != n:\n",
    "            continue\n",
    "    #     print(r)\n",
    "        g = pk.load(open(r, 'rb'))\n",
    "        n_lay = len(g['params']['units'])\n",
    "        act = g['params']['activation']\n",
    "        results.setdefault(act, {})\n",
    "        u = g['params']['units'][0]\n",
    "        results[act][u] = results[act].get(u,[]) +[[n_lay,max(g['history']['val_acc'])]]\n",
    "\n",
    "\n",
    "    for a in results:\n",
    "        r1 = results[a]\n",
    "        results[a] = {k: array(results[a][k])[argsort(array(results[a][k])[:,0])] for k in results[a]}\n",
    "        \n",
    "    for a in results:\n",
    "        r1 = results[a]\n",
    "        for k in sorted(r1):\n",
    "            plot(*r1[k].T, label = '%d units' %k, marker = '.')\n",
    "        title('%d nodes, %s GCN activation' %(n,a.capitalize()) + (', pruned' if '-trimmed' in res[0] else '') )\n",
    "        xlabel('# layers', size = 12)\n",
    "        ylabel('validation accuracy', size = 12)\n",
    "        xticks(arange(1,6))\n",
    "    #     ylim(0.5,1)\n",
    "        legend()\n",
    "        grid()\n",
    "        \n",
    "        tight_layout()\n",
    "#         savefig('../figs/expressivity/GCN/gcn-config-%s-N%d'%(typ,n) + ('-trimmed' if '-trimmed' in res[0] else '') +'.pdf')\n",
    "#         savefig('../figs/expressivity/GCN/gcn-config-%s-N%d'%(typ,n) + ('-trimmed' if '-trimmed' in res[0] else '') +'.png', dpi=300)\n",
    "        \n",
    "        show()\n"
   ]
  },
  {
   "cell_type": "code",
   "execution_count": null,
   "metadata": {},
   "outputs": [],
   "source": [
    "'../figs/expressivity/GCN/gcn-config-%s-N%d'%(typ,n) + ('-trimmed' if '-trimmed' in res[0] else '') +'.pdf'"
   ]
  },
  {
   "cell_type": "code",
   "execution_count": null,
   "metadata": {},
   "outputs": [],
   "source": [
    "g['params']"
   ]
  },
  {
   "cell_type": "code",
   "execution_count": null,
   "metadata": {},
   "outputs": [],
   "source": [
    "# n = 40\n",
    "results = {}\n",
    "\n",
    "for r in res:\n",
    "    if int(r.split('-N')[1].split('-')[0]) != n:\n",
    "        continue\n",
    "#     print(r)\n",
    "    g = pk.load(open(r, 'rb'))\n",
    "    n_lay = len(g['params']['units'])\n",
    "    act = g['params']['activation']\n",
    "    results.setdefault(act, {})\n",
    "    u = g['params']['units'][0]\n",
    "    results[act][u] = results[act].get(u,[]) +[[n_lay,max(g['history']['val_acc'])]]\n",
    "    \n",
    "\n",
    "for a in results:\n",
    "    r1 = results[a]\n",
    "    results[a] = {k: array(results[a][k])[argsort(array(results[a][k])[:,0])] for k in results[a]}"
   ]
  },
  {
   "cell_type": "code",
   "execution_count": null,
   "metadata": {},
   "outputs": [],
   "source": [
    "for a in results:\n",
    "    r1 = results[a]\n",
    "    for k in sorted(r1):\n",
    "        plot(*r1[k].T, label = '%d units' %k, marker = '.')\n",
    "    title('%d nodes, %s activation' %(n,a.capitalize()) )\n",
    "    xlabel('# layers', size = 12)\n",
    "    ylabel('validation accuracy', size = 12)\n",
    "    xticks(arange(1,6))\n",
    "#     ylim(0.5,1)\n",
    "    legend()\n",
    "    grid()\n",
    "    tight_layout()\n",
    "    show()\n",
    "    "
   ]
  },
  {
   "cell_type": "code",
   "execution_count": null,
   "metadata": {},
   "outputs": [],
   "source": [
    "str.capitalize(act)"
   ]
  },
  {
   "cell_type": "code",
   "execution_count": null,
   "metadata": {},
   "outputs": [],
   "source": [
    "lays = 3\n",
    "units = 2\n",
    "units_final = 5\n",
    "\n",
    "params = {'units': [units]*lays , 'activation': 'linear','skip':True, \n",
    "          'final_kws': {'units': units_final,'activation': 'linear'}, }\n",
    "    \n",
    "Adjacencies = data_config\n",
    "\n",
    "labels = labels_config\n",
    "\n",
    "indices = idx\n",
    "\n",
    "# import GraphConvNet as gcn\n",
    "\n",
    "gcn_model = gcn.MultiGCN(input_shape= h[0].shape, **params)\n",
    "    \n",
    "# gcn_model.model.summary()\n",
    "\n",
    "d1 = gcn.Dense(2, activation='softmax')( gcn.layers.Flatten()( gcn_model.model.output ) )"
   ]
  },
  {
   "cell_type": "code",
   "execution_count": null,
   "metadata": {
    "collapsed": true
   },
   "outputs": [],
   "source": [
    "d2 = gcn.Dense(2, activation='softmax')( ( gcn_model.model.output ) )"
   ]
  },
  {
   "cell_type": "code",
   "execution_count": null,
   "metadata": {
    "collapsed": true
   },
   "outputs": [],
   "source": [
    "leak = gcn.layers.LeakyReLU(alpha = 0.3)\n",
    "ac = leak(gcn_model.model.output)\n",
    "d1 = gcn.Dense(2, activation='softmax')( ( ac ) )\n"
   ]
  },
  {
   "cell_type": "code",
   "execution_count": null,
   "metadata": {},
   "outputs": [],
   "source": [
    "d1"
   ]
  },
  {
   "cell_type": "markdown",
   "metadata": {},
   "source": [
    "Is there any way we could sum this tensor over it's second index instead of third? \n"
   ]
  },
  {
   "cell_type": "code",
   "execution_count": null,
   "metadata": {
    "collapsed": true
   },
   "outputs": [],
   "source": [
    "la = gcn.layers.Lambda(lambda x: gcn.K.mean(x,axis = 1))"
   ]
  },
  {
   "cell_type": "code",
   "execution_count": null,
   "metadata": {
    "collapsed": true
   },
   "outputs": [],
   "source": [
    "d2 = la(d1)"
   ]
  },
  {
   "cell_type": "code",
   "execution_count": null,
   "metadata": {},
   "outputs": [],
   "source": [
    "model = gcn.Model(inputs = gcn_model.model.inputs, outputs = [d2] )\n",
    "model.compile(optimizer='adam', loss ='categorical_crossentropy' ,metrics=['accuracy'])\n",
    "\n",
    "model.summary()\n"
   ]
  },
  {
   "cell_type": "code",
   "execution_count": null,
   "metadata": {
    "collapsed": true
   },
   "outputs": [],
   "source": [
    "leak = gcn.layers.LeakyReLU(alpha = 0.3)\n",
    "ac = leak(gcn_model.model.output)\n",
    "d1 = gcn.Dense(2, activation='softmax')( gcn.layers.Flatten()( ac ) )"
   ]
  },
  {
   "cell_type": "code",
   "execution_count": null,
   "metadata": {},
   "outputs": [],
   "source": [
    "model = gcn.Model(inputs = gcn_model.model.inputs, outputs = [d1] )\n",
    "model.compile(optimizer='adam', loss ='categorical_crossentropy' ,metrics=['accuracy'])\n",
    "\n",
    "model.summary()\n"
   ]
  },
  {
   "cell_type": "code",
   "execution_count": null,
   "metadata": {},
   "outputs": [],
   "source": [
    "\n",
    "lays = 3\n",
    "units = 2\n",
    "units_final = 5\n",
    "\n",
    "params = {'units': [units]*lays , 'activation': 'linear','skip':True, \n",
    "          'final_kws': {'units': units_final,'activation': 'relu'}, }\n",
    "    \n",
    "Adjacencies = data_config\n",
    "\n",
    "labels = labels_config\n",
    "\n",
    "indices = idx\n",
    "\n",
    "# import GraphConvNet as gcn\n",
    "\n",
    "gcn_model = gcn.MultiGCN(input_shape= h[0].shape, **params)\n",
    "    \n",
    "\n",
    "# gcn_model.model.summary()\n",
    "\n",
    "d1 = gcn.Dense(2, activation='softmax')( gcn.layers.Flatten()( gcn_model.model.output ) )\n",
    "model = gcn.Model(inputs = gcn_model.model.inputs, outputs = [d1] )\n",
    "model.compile(optimizer='adam', loss ='categorical_crossentropy' ,metrics=['accuracy'])\n",
    "\n",
    "model.summary()\n",
    "\n",
    "ephist = gcn.EpochHistory(metrics=['acc','val_acc'])"
   ]
  },
  {
   "cell_type": "code",
   "execution_count": null,
   "metadata": {},
   "outputs": [],
   "source": [
    "gcn_model."
   ]
  },
  {
   "cell_type": "code",
   "execution_count": null,
   "metadata": {},
   "outputs": [],
   "source": [
    "\n",
    "params = {'layers': 1, 'units': 2, 'bias': True, 'activation': 'linear'}\n",
    "    \n",
    "units = [params['units']] * params['layers']\n",
    "units_final = 5\n",
    "Adjacencies = data_config\n",
    "\n",
    "labels = labels_config\n",
    "\n",
    "indices = idx\n",
    "\n",
    "# import GraphConvNet as gcn\n",
    "\n",
    "gcn_model = gcn.MultiGCN(input_shape= h[0].shape, units = units,\n",
    "                         activation = params['activation'], skip = True, \n",
    "                         final_kws= {'units': units_final,'activation': 'relu'}, \n",
    "                     dense_kws={'use_bias':params['bias']},\n",
    "                       GCN_kws={'use_bias':params['bias']},\n",
    "                        )\n",
    "    \n",
    "\n",
    "# gcn_model.model.summary()\n",
    "\n",
    "den = gcn.Dense(2, activation='softmax')\n",
    "d1 = den( gcn.layers.Flatten()( gcn_model.model.output ) )\n",
    "model = gcn.Model(inputs = gcn_model.model.inputs, outputs = [d1] )\n",
    "model.compile(optimizer='adam', loss ='categorical_crossentropy' ,metrics=['accuracy'])\n",
    "\n",
    "model.summary()\n",
    "\n",
    "ephist = gcn.EpochHistory(metrics=['acc','val_acc'])"
   ]
  },
  {
   "cell_type": "code",
   "execution_count": null,
   "metadata": {},
   "outputs": [],
   "source": [
    "history = model.fit([Adjacencies[indices], h[indices]], to_categorical(labels[indices]), epochs= 100, validation_split=0.2,\n",
    "                    callbacks=[ephist], verbose=False )"
   ]
  },
  {
   "cell_type": "code",
   "execution_count": null,
   "metadata": {},
   "outputs": [],
   "source": [
    "i = 20\n",
    "p = model.predict([Adjacencies[indices[-i:]], h[-i:]])\n",
    "plot(labels[indices[-i:]])\n",
    "plot(p[:,1])"
   ]
  },
  {
   "cell_type": "code",
   "execution_count": null,
   "metadata": {},
   "outputs": [],
   "source": [
    "for k in ['acc', 'val_acc']:\n",
    "    plot(ephist.history[k], label = k)\n",
    "    \n",
    "legend()"
   ]
  },
  {
   "cell_type": "markdown",
   "metadata": {},
   "source": [
    "# more layers"
   ]
  },
  {
   "cell_type": "code",
   "execution_count": null,
   "metadata": {},
   "outputs": [],
   "source": [
    "\n",
    "params = {'layers': 3, 'units': 2, 'bias': True, 'activation': 'linear'}\n",
    "    \n",
    "units = [params['units']] * params['layers']\n",
    "units_final = 5\n",
    "Adjacencies = data_config\n",
    "\n",
    "labels = labels_config\n",
    "\n",
    "indices = idx\n",
    "\n",
    "# import GraphConvNet as gcn\n",
    "\n",
    "gcn_model = gcn.MultiGCN(input_shape= h[0].shape, units = units, \n",
    "                         output_shape= (Adjacencies.shape[1], units_final ) , # fix bug to allow units for final\n",
    "                         activation = params['activation'], skip = True, \n",
    "                         final_kws= {'activation': 'relu'}, \n",
    "                     dense_kws={'use_bias':params['bias']},\n",
    "                       GCN_kws={'use_bias':params['bias']},\n",
    "                        )\n",
    "    \n",
    "\n",
    "# gcn_model.model.summary()\n",
    "\n",
    "den = gcn.Dense(2, activation='softmax')\n",
    "d1 = den( gcn.layers.Flatten()( gcn_model.model.output ) )\n",
    "model = gcn.Model(inputs = gcn_model.model.inputs, outputs = [d1] )\n",
    "model.compile(optimizer='adam', loss ='categorical_crossentropy' ,metrics=['accuracy'])\n",
    "\n",
    "model.summary()\n",
    "\n",
    "ephist = gcn.EpochHistory(metrics=['acc','val_acc'])"
   ]
  },
  {
   "cell_type": "code",
   "execution_count": null,
   "metadata": {},
   "outputs": [],
   "source": [
    "history = model.fit([Adjacencies[indices], h[indices]], to_categorical(labels[indices]), epochs= 100, validation_split=0.2,\n",
    "                    callbacks=[ephist], verbose=False )"
   ]
  },
  {
   "cell_type": "code",
   "execution_count": null,
   "metadata": {},
   "outputs": [],
   "source": [
    "i = 20\n",
    "p = model.predict([Adjacencies[indices[-i:]], h[-i:]])\n",
    "plot(labels[indices[-i:]])\n",
    "plot(p[:,1])"
   ]
  },
  {
   "cell_type": "code",
   "execution_count": null,
   "metadata": {},
   "outputs": [],
   "source": [
    "for k in ['acc', 'val_acc']:\n",
    "    plot(ephist.history[k], label = k)\n",
    "    \n",
    "legend()"
   ]
  },
  {
   "cell_type": "markdown",
   "metadata": {},
   "source": [
    "### nonlinear"
   ]
  },
  {
   "cell_type": "code",
   "execution_count": null,
   "metadata": {},
   "outputs": [],
   "source": [
    "\n",
    "params = {'layers': 3, 'units': 2, 'bias': True, 'activation': 'tanh'}\n",
    "    \n",
    "units = [params['units']] * params['layers']\n",
    "units_final = 5\n",
    "Adjacencies = data_config\n",
    "\n",
    "labels = labels_config\n",
    "\n",
    "indices = idx\n",
    "\n",
    "# import GraphConvNet as gcn\n",
    "\n",
    "gcn_model = gcn.MultiGCN(input_shape= h[0].shape, units = units, \n",
    "                         output_shape= (Adjacencies.shape[1], units_final ) , # fix bug to allow units for final\n",
    "                         activation = params['activation'], skip = True, \n",
    "                         final_kws= {'activation': 'relu'}, \n",
    "                     dense_kws={'use_bias':params['bias']},\n",
    "                       GCN_kws={'use_bias':params['bias']},\n",
    "                        )\n",
    "    \n",
    "\n",
    "# gcn_model.model.summary()\n",
    "\n",
    "den = gcn.Dense(2, activation='softmax')\n",
    "d1 = den( gcn.layers.Flatten()( gcn_model.model.output ) )\n",
    "model = gcn.Model(inputs = gcn_model.model.inputs, outputs = [d1] )\n",
    "model.compile(optimizer='adam', loss ='categorical_crossentropy' ,metrics=['accuracy'])\n",
    "\n",
    "model.summary()\n",
    "\n",
    "ephist = gcn.EpochHistory(metrics=['acc','val_acc'])"
   ]
  },
  {
   "cell_type": "code",
   "execution_count": null,
   "metadata": {},
   "outputs": [],
   "source": [
    "history = model.fit([Adjacencies[indices], h[indices]], to_categorical(labels[indices]), epochs= 100, validation_split=0.2,\n",
    "                    callbacks=[ephist], verbose=False )"
   ]
  },
  {
   "cell_type": "code",
   "execution_count": null,
   "metadata": {},
   "outputs": [],
   "source": [
    "i = 20\n",
    "p = model.predict([Adjacencies[indices[-i:]], h[-i:]])\n",
    "plot(labels[indices[-i:]])\n",
    "plot(p[:,1])"
   ]
  },
  {
   "cell_type": "code",
   "execution_count": null,
   "metadata": {},
   "outputs": [],
   "source": [
    "for k in ['acc', 'val_acc']:\n",
    "    plot(ephist.history[k], label = k)\n",
    "    \n",
    "legend()"
   ]
  },
  {
   "cell_type": "markdown",
   "metadata": {},
   "source": [
    "# Run batch tests\n",
    "1. num nodes\n",
    "2. depth\n",
    "3. width\n",
    "4. BA, ER  \n",
    "\n",
    "in the meantime, work on making SBM"
   ]
  },
  {
   "cell_type": "markdown",
   "metadata": {},
   "source": [
    "# ER vs BA Classification"
   ]
  },
  {
   "cell_type": "code",
   "execution_count": null,
   "metadata": {
    "collapsed": true
   },
   "outputs": [],
   "source": [
    "n_nodes = 20\n",
    "num_samples = int(2e3)\n",
    "num_params = 1\n",
    "\n",
    "num_in_group = num_samples//(2*num_params)\n",
    "\n",
    "label_classes = ['BA', 'ER']\n",
    "\n",
    "params = {'BA' : int0(linspace(1,n_nodes/2, num_params)),\n",
    "          'ER' : linspace(0.5/n_nodes, 0.5, num_params)}\n",
    "\n",
    "Adj = {'BA' : concatenate([make_BA_dataset(num_in_group, n_nodes, m) for m in params['BA']], axis = 0),\n",
    "       'ER' : concatenate([make_ER_dataset(num_in_group, n_nodes, p) for p in params['ER']], axis = 0)}\n",
    "\n",
    "Adj_all = concatenate((Adj['BA'], Adj['ER']), axis = 0)\n",
    "\n",
    "params_all = []\n",
    "for i,k in enumerate(label_classes):\n",
    "    for p in params[k]:\n",
    "        params_all += [[i,p]]*num_in_group\n",
    "\n",
    "idx = argsort(rand(len(Adj_all)))\n",
    "assert len(params_all)==len(Adj_all), \"Labels and data don't have the same length!\"\n",
    "\n",
    "A2 = gcn.mat_pow_batch(Adj_all,2)\n",
    "A3 = gcn.mat_pow_batch(Adj_all,3)\n",
    "\n",
    "moments = {1 : Adj_all.sum(-1, keepdims=1), \n",
    "           2 : A2.sum(-1, keepdims=1),\n",
    "           3: A3.sum(-1, keepdims=1),\n",
    "          }\n",
    "\n",
    "h = np.ones_like(moments[1])"
   ]
  },
  {
   "cell_type": "code",
   "execution_count": null,
   "metadata": {},
   "outputs": [],
   "source": [
    "# params_all\n",
    "Adj_all[0].sum(), Adj_all[-1].sum()"
   ]
  },
  {
   "cell_type": "markdown",
   "metadata": {},
   "source": [
    "# Naive test\n",
    "we have a dataset of ER and BA where the number of links is vastly different. The neural net should be able to quickly exploit this and distinguish between the two. "
   ]
  },
  {
   "cell_type": "code",
   "execution_count": null,
   "metadata": {
    "collapsed": true
   },
   "outputs": [],
   "source": [
    "\n",
    "params = {'layers': 1, 'units': 1, 'bias': True, 'activation': 'linear'}\n",
    "    \n",
    "units = [params['units']] * params['layers']\n",
    "units_final = 5\n",
    "Adjacencies = Adj_all\n",
    "\n",
    "labels = array(params_all)[:,0]\n",
    "\n",
    "indices = idx\n",
    "\n",
    "# import GraphConvNet as gcn\n",
    "gcn_model = gcn.MultiGCN(input_shape= moments[1][0].shape, units = units, \n",
    "                         output_shape= (Adj_all.shape[1], units_final ) , # fix bug to allow units for final\n",
    "                         activation = params['activation'], skip = True, \n",
    "                         final_kwargs= {'activation': 'relu'}, \n",
    "                     dense_kws={'use_bias':params['bias']},\n",
    "                       GCN_kws={'use_bias':params['bias']},\n",
    "                        )\n",
    "    \n"
   ]
  },
  {
   "cell_type": "code",
   "execution_count": null,
   "metadata": {},
   "outputs": [],
   "source": [
    "gcn_model.model.summary()"
   ]
  },
  {
   "cell_type": "code",
   "execution_count": null,
   "metadata": {},
   "outputs": [],
   "source": [
    "gcn_model.model.inputs"
   ]
  },
  {
   "cell_type": "code",
   "execution_count": null,
   "metadata": {},
   "outputs": [],
   "source": [
    "gcn_model.model.output"
   ]
  },
  {
   "cell_type": "code",
   "execution_count": null,
   "metadata": {
    "collapsed": true
   },
   "outputs": [],
   "source": [
    "den = gcn.Dense(2, activation='softmax')\n",
    "d1 = den( gcn.layers.Flatten()( gcn_model.model.output ) )\n",
    "model = gcn.Model(inputs = gcn_model.model.inputs, outputs = [d1] )"
   ]
  },
  {
   "cell_type": "code",
   "execution_count": null,
   "metadata": {},
   "outputs": [],
   "source": [
    "model.summary()"
   ]
  },
  {
   "cell_type": "code",
   "execution_count": null,
   "metadata": {
    "collapsed": true
   },
   "outputs": [],
   "source": [
    "model.compile(optimizer='adam', loss ='categorical_crossentropy' ,metrics=['accuracy'])"
   ]
  },
  {
   "cell_type": "code",
   "execution_count": null,
   "metadata": {},
   "outputs": [],
   "source": [
    "history = model.fit([Adjacencies[indices], h[indices]], to_categorical(labels[indices]), epochs= 100, validation_split=0.2 )"
   ]
  },
  {
   "cell_type": "code",
   "execution_count": null,
   "metadata": {},
   "outputs": [],
   "source": [
    "i = 20\n",
    "p = model.predict([Adjacencies[indices[-i:]], h[-i:]])\n",
    "plot(labels[indices[-i:]])\n",
    "plot(p[:,1])"
   ]
  },
  {
   "cell_type": "code",
   "execution_count": null,
   "metadata": {
    "collapsed": true
   },
   "outputs": [],
   "source": [
    "den = gcn.Dense(2, activation='softmax')\n",
    "d1 = den( gcn_model.model.layers[-2].output )\n",
    "model2 = gcn.Model(inputs = gcn_model.model.inputs, outputs = [d1] )"
   ]
  },
  {
   "cell_type": "code",
   "execution_count": null,
   "metadata": {},
   "outputs": [],
   "source": [
    "model2.summary()"
   ]
  },
  {
   "cell_type": "code",
   "execution_count": null,
   "metadata": {
    "collapsed": true
   },
   "outputs": [],
   "source": [
    "model2.compile(optimizer='adam', loss ='categorical_crossentropy', metrics=['accuracy'])"
   ]
  },
  {
   "cell_type": "code",
   "execution_count": null,
   "metadata": {},
   "outputs": [],
   "source": [
    "moments[1].mean()"
   ]
  },
  {
   "cell_type": "code",
   "execution_count": null,
   "metadata": {
    "collapsed": true
   },
   "outputs": [],
   "source": [
    "history = model2.fit([Adjacencies[indices], h[indices]],to_categorical(1.* (moments[1][indices] >2 ))\n",
    "                     , epochs= 100, validation_split=0.2 )"
   ]
  },
  {
   "cell_type": "code",
   "execution_count": null,
   "metadata": {
    "collapsed": true
   },
   "outputs": [],
   "source": [
    "\n",
    "gcn_model.train([ Adjacencies[indices], h[indices]],[labels[indices]],epochs= EP_SPLIT)\n",
    "gcn_model.save(SAVE_PATH + 'gcn_model_Lay%d-units%d-moment%d-Act_%s-bias%d.pkl' %(params['layers'], params['units'], \n",
    "                        params['moment'], params['activation'], params['bias']))\n"
   ]
  },
  {
   "cell_type": "markdown",
   "metadata": {},
   "source": [
    "# Exploits\n",
    "The naive test works, most likely by exploiting the number of links or pattern of and order of nodes. \n",
    "For instance, in all the BA, the higher degree nodes are likely to come first. If the order is what is being exploited, if we shuffle the order of the nodes it should become more difficult for the network. \n",
    "Also, if it is a pattern in the number links, we should shuffle the links, or make ER with the same density and check the performance. "
   ]
  },
  {
   "cell_type": "markdown",
   "metadata": {},
   "source": [
    "## Shuffiling node order"
   ]
  },
  {
   "cell_type": "code",
   "execution_count": null,
   "metadata": {},
   "outputs": [],
   "source": [
    "for m in range(1,8):\n",
    "    a = make_BA_dataset(1,n_nodes,m=m)[0]\n",
    "    \n",
    "    f = lambda n,m: (n-m)*m  #+ (m*(m+1))/2 \n",
    "#     print(2*(a.sum()/2- f(n_nodes, m))/m/(m-1+1e-8))\n",
    "    print(a.sum()/2- f(n_nodes,m))\n",
    "    \n",
    "    b = make_ER_dataset(1,n_nodes, p = f(n_nodes, m)/ (n_nodes**2 - n_nodes) *2 )[0]\n",
    "    print(a.sum(), b.sum())\n",
    "####"
   ]
  },
  {
   "cell_type": "markdown",
   "metadata": {},
   "source": [
    "## !!!!! NetworkX implementation of BA has only (n-m)*m links !!!!"
   ]
  },
  {
   "cell_type": "markdown",
   "metadata": {},
   "source": [
    "scaling of error with size number of modules\n",
    "graoh eigenvalues\n",
    "size of the netwok, graph, depth, width of modules hudden units"
   ]
  },
  {
   "cell_type": "code",
   "execution_count": null,
   "metadata": {},
   "outputs": [],
   "source": [
    "x = linspace(-3,3,100)\n",
    "plot(x,x**2)\n",
    "yscale('log')"
   ]
  },
  {
   "cell_type": "code",
   "execution_count": null,
   "metadata": {
    "collapsed": true
   },
   "outputs": [],
   "source": [
    "n_nodes = 40\n",
    "\n",
    "m = 3\n",
    "\n",
    "num_samples = int(4e3)\n",
    "num_params = 1\n",
    "\n",
    "num_in_group = num_samples//(2*num_params)\n",
    "\n",
    "label_classes = ['BA', 'ER']\n",
    "\n",
    "f = lambda n,m: (n-m)*m  #+ (m*(m+1))/2 \n",
    "\n",
    "params = {'BA' : [m], #int0(linspace(1,n_nodes/2, num_params)),\n",
    "          'ER' : [f(n_nodes, m)/ (n_nodes**2 - n_nodes) * 2] #linspace(0.5/n_nodes, 0.5, num_params)\n",
    "         }\n",
    "\n",
    "Adj = {'BA' : concatenate([make_BA_dataset(num_in_group, n_nodes, m) for m in params['BA']], axis = 0),\n",
    "       'ER' : concatenate([make_ER_dataset(num_in_group, n_nodes, p) for p in params['ER']], axis = 0)}\n",
    "\n",
    "Adj_all = concatenate((Adj['BA'], Adj['ER']), axis = 0)\n",
    "\n",
    "params_all = []\n",
    "for i,k in enumerate(label_classes):\n",
    "    for p in params[k]:\n",
    "        params_all += [[i,p]]*num_in_group\n",
    "\n",
    "idx = argsort(rand(len(Adj_all)))\n",
    "assert len(params_all)==len(Adj_all), \"Labels and data don't have the same length!\"\n",
    "\n",
    "A2 = gcn.mat_pow_batch(Adj_all,2)\n",
    "A3 = gcn.mat_pow_batch(Adj_all,3)\n",
    "\n",
    "moments = {1 : Adj_all.sum(-1, keepdims=1), \n",
    "           2 : A2.sum(-1, keepdims=1),\n",
    "           3: A3.sum(-1, keepdims=1),\n",
    "          }\n",
    "\n",
    "h = np.ones_like(moments[1])"
   ]
  },
  {
   "cell_type": "code",
   "execution_count": null,
   "metadata": {
    "collapsed": true
   },
   "outputs": [],
   "source": [
    "Adj_nodes_shuffled = np.empty_like(Adj_all)\n",
    "for i,a in enumerate(Adj_all):\n",
    "    # get random order\n",
    "    r = argsort(rand(len(a)))\n",
    "    Adj_nodes_shuffled[i] = a[r][:,r]"
   ]
  },
  {
   "cell_type": "code",
   "execution_count": null,
   "metadata": {},
   "outputs": [],
   "source": [
    "imshow(Adj_nodes_shuffled[0])"
   ]
  },
  {
   "cell_type": "code",
   "execution_count": null,
   "metadata": {},
   "outputs": [],
   "source": [
    "plot(Adj_all[0].sum(0))\n",
    "plot(Adj_nodes_shuffled[0].sum(0))\n"
   ]
  },
  {
   "cell_type": "code",
   "execution_count": null,
   "metadata": {},
   "outputs": [],
   "source": [
    "\n",
    "params = {'layers': 1, 'units': 1, 'bias': True, 'activation': 'linear'}\n",
    "    \n",
    "units = [params['units']] * params['layers']\n",
    "units_final = 5\n",
    "Adjacencies = Adj_nodes_shuffled\n",
    "\n",
    "labels = array(params_all)[:,0]\n",
    "\n",
    "indices = idx\n",
    "\n",
    "# import GraphConvNet as gcn\n",
    "gcn_model = gcn.MultiGCN(input_shape= moments[1][0].shape, units = units, \n",
    "                         output_shape= (Adjacencies.shape[1], units_final ) , # fix bug to allow units for final\n",
    "                         activation = params['activation'], skip = True, \n",
    "                         final_kwargs= {'activation': 'relu'}, \n",
    "                     dense_kws={'use_bias':params['bias']},\n",
    "                       GCN_kws={'use_bias':params['bias']},\n",
    "                        )\n",
    "    \n",
    "\n",
    "gcn_model.model.summary()"
   ]
  },
  {
   "cell_type": "markdown",
   "metadata": {},
   "source": [
    "## Classification model"
   ]
  },
  {
   "cell_type": "code",
   "execution_count": null,
   "metadata": {},
   "outputs": [],
   "source": [
    "den = gcn.Dense(2, activation='softmax')\n",
    "d1 = den( gcn.layers.Flatten()( gcn_model.model.output ) )\n",
    "model = gcn.Model(inputs = gcn_model.model.inputs, outputs = [d1] )\n",
    "model.compile(optimizer='adam', loss ='categorical_crossentropy' ,metrics=['accuracy'])\n",
    "\n",
    "model.summary()\n"
   ]
  },
  {
   "cell_type": "code",
   "execution_count": null,
   "metadata": {
    "collapsed": true
   },
   "outputs": [],
   "source": [
    "history = model.fit([Adjacencies[indices], h[indices]], to_categorical(labels[indices]), epochs= 100, validation_split=0.2 )"
   ]
  },
  {
   "cell_type": "code",
   "execution_count": null,
   "metadata": {},
   "outputs": [],
   "source": [
    "i = 20\n",
    "p = model.predict([Adjacencies[indices[-i:]], h[-i:]])\n",
    "plot(labels[indices[-i:]])\n",
    "plot(p[:,1])"
   ]
  },
  {
   "cell_type": "code",
   "execution_count": null,
   "metadata": {},
   "outputs": [],
   "source": [
    "for k in ['acc', 'val_acc']:\n",
    "    plot(history.history[k], label = k)\n",
    "    \n",
    "legend()"
   ]
  },
  {
   "cell_type": "code",
   "execution_count": null,
   "metadata": {
    "collapsed": true
   },
   "outputs": [],
   "source": [
    "w,b = model.layers[-1].get_weights()"
   ]
  },
  {
   "cell_type": "code",
   "execution_count": null,
   "metadata": {},
   "outputs": [],
   "source": [
    "figure(figsize = (10,10))\n",
    "imshow(w, aspect = 0.01)"
   ]
  },
  {
   "cell_type": "code",
   "execution_count": null,
   "metadata": {},
   "outputs": [],
   "source": [
    "w.shape"
   ]
  },
  {
   "cell_type": "code",
   "execution_count": null,
   "metadata": {
    "collapsed": true
   },
   "outputs": [],
   "source": [
    "w0 = w[:,0].reshape((n_nodes,units_final))"
   ]
  },
  {
   "cell_type": "code",
   "execution_count": null,
   "metadata": {},
   "outputs": [],
   "source": [
    "plot(w0.mean(-1)+0*b[0])"
   ]
  },
  {
   "cell_type": "code",
   "execution_count": null,
   "metadata": {},
   "outputs": [],
   "source": [
    "b"
   ]
  },
  {
   "cell_type": "code",
   "execution_count": null,
   "metadata": {},
   "outputs": [],
   "source": [
    "for i in range(n_nodes):\n",
    "    plot(w[i*units_final:(i+1)*units_final,0])\n",
    "    \n",
    "# plot(w0.mean(-1)+0*b[0], lw = 3)"
   ]
  },
  {
   "cell_type": "code",
   "execution_count": null,
   "metadata": {
    "collapsed": true
   },
   "outputs": [],
   "source": [
    "wd, bd = gcn_model.model.layers[-1].get_weights()"
   ]
  },
  {
   "cell_type": "code",
   "execution_count": null,
   "metadata": {},
   "outputs": [],
   "source": [
    "imshow(wd)\n",
    "colorbar()\n",
    "yticks(range(3), ['$A$', r'$\\hat{A}$', r'$\\hat{A}_S$'], fontsize = 14)\n",
    "xlabel('dense layer units', fontsize = 12)"
   ]
  },
  {
   "cell_type": "code",
   "execution_count": null,
   "metadata": {},
   "outputs": [],
   "source": [
    "for i in range(units_final):\n",
    "    plot(w[i*n_nodes:(i+1)*n_nodes,0])\n",
    "    \n",
    "# plot(w0.mean(-1)+0*b[0], lw = 3)"
   ]
  },
  {
   "cell_type": "code",
   "execution_count": null,
   "metadata": {},
   "outputs": [],
   "source": [
    "hist(w[:,0]);"
   ]
  },
  {
   "cell_type": "code",
   "execution_count": null,
   "metadata": {},
   "outputs": [],
   "source": [
    "\n",
    "params = {'layers': 1, 'units': 1, 'bias': True, 'activation': 'linear'}\n",
    "    \n",
    "units = [params['units']] * params['layers']\n",
    "units_final = 2\n",
    "Adjacencies = Adj_nodes_shuffled\n",
    "\n",
    "labels = array(params_all)[:,0]\n",
    "\n",
    "indices = idx\n",
    "\n",
    "# import GraphConvNet as gcn\n",
    "gcn_model = gcn.MultiGCN(input_shape= moments[1][0].shape, units = units, \n",
    "                         output_shape= (Adjacencies.shape[1], units_final ) , # fix bug to allow units for final\n",
    "                         activation = params['activation'], skip = True, \n",
    "                         final_kwargs= {'activation': 'relu'}, \n",
    "                     dense_kws={'use_bias':params['bias']},\n",
    "                       GCN_kws={'use_bias':params['bias']},\n",
    "                        )\n",
    "    \n",
    "\n",
    "gcn_model.model.summary()"
   ]
  },
  {
   "cell_type": "markdown",
   "metadata": {},
   "source": [
    "## Classification model"
   ]
  },
  {
   "cell_type": "code",
   "execution_count": null,
   "metadata": {},
   "outputs": [],
   "source": [
    "den = gcn.Dense(2, activation='softmax')\n",
    "d1 = den( gcn.layers.Flatten()( gcn_model.model.output ) )\n",
    "model = gcn.Model(inputs = gcn_model.model.inputs, outputs = [d1] )\n",
    "model.compile(optimizer='adam', loss ='categorical_crossentropy' ,metrics=['accuracy'])\n",
    "\n",
    "model.summary()\n"
   ]
  },
  {
   "cell_type": "code",
   "execution_count": null,
   "metadata": {},
   "outputs": [],
   "source": [
    "history = model.fit([Adjacencies[indices], h[indices]], to_categorical(labels[indices]), epochs= 100, validation_split=0.2 )"
   ]
  },
  {
   "cell_type": "code",
   "execution_count": null,
   "metadata": {},
   "outputs": [],
   "source": [
    "i = 20\n",
    "p = model.predict([Adjacencies[indices[-i:]], h[-i:]])\n",
    "plot(labels[indices[-i:]])\n",
    "plot(p[:,1])"
   ]
  },
  {
   "cell_type": "code",
   "execution_count": null,
   "metadata": {},
   "outputs": [],
   "source": [
    "for k in ['acc', 'val_acc']:\n",
    "    plot(history.history[k], label = k)\n",
    "    \n",
    "legend()"
   ]
  },
  {
   "cell_type": "code",
   "execution_count": null,
   "metadata": {
    "collapsed": true
   },
   "outputs": [],
   "source": [
    "w,b = model.layers[-1].get_weights()"
   ]
  },
  {
   "cell_type": "code",
   "execution_count": null,
   "metadata": {},
   "outputs": [],
   "source": [
    "figure(figsize = (10,10))\n",
    "imshow(w, aspect = 0.01)"
   ]
  },
  {
   "cell_type": "code",
   "execution_count": null,
   "metadata": {},
   "outputs": [],
   "source": [
    "for i in range(n_nodes):\n",
    "    plot(w[i*units_final:(i+1)*units_final,0])\n",
    "    \n",
    "# plot(w0.mean(-1)+0*b[0], lw = 3)"
   ]
  },
  {
   "cell_type": "code",
   "execution_count": null,
   "metadata": {
    "collapsed": true
   },
   "outputs": [],
   "source": [
    "wd, bd = gcn_model.model.layers[-1].get_weights()"
   ]
  },
  {
   "cell_type": "code",
   "execution_count": null,
   "metadata": {},
   "outputs": [],
   "source": [
    "imshow(wd)\n",
    "colorbar()\n",
    "yticks(range(3), ['$A$', r'$\\hat{A}$', r'$\\hat{A}_S$'], fontsize = 14)\n",
    "xlabel('dense layer units', fontsize = 12)"
   ]
  },
  {
   "cell_type": "code",
   "execution_count": null,
   "metadata": {
    "collapsed": true
   },
   "outputs": [],
   "source": [
    "w0, b0 = gcn_model.model.layers[-2].get_weights()"
   ]
  },
  {
   "cell_type": "code",
   "execution_count": null,
   "metadata": {},
   "outputs": [],
   "source": [
    "imshow(w0.dot(wd))\n",
    "colorbar()\n",
    "yticks(range(3), ['$A$', r'$\\hat{A}$', r'$\\hat{A}_S$'], fontsize = 14)\n",
    "xlabel('dense layer units', fontsize = 12)"
   ]
  },
  {
   "cell_type": "markdown",
   "metadata": {},
   "source": [
    "## Restrict the modules to see if only $A$ does the job"
   ]
  },
  {
   "cell_type": "code",
   "execution_count": null,
   "metadata": {
    "collapsed": true
   },
   "outputs": [],
   "source": [
    "A,H = gcn.Input(shape = Adj_nodes_shuffled[0].shape), gcn.Input(h[0].shape)\n"
   ]
  },
  {
   "cell_type": "code",
   "execution_count": null,
   "metadata": {
    "collapsed": true
   },
   "outputs": [],
   "source": [
    "g_lay = gcn.GCN(units= 3, activation = 'linear')"
   ]
  },
  {
   "cell_type": "code",
   "execution_count": null,
   "metadata": {
    "collapsed": true
   },
   "outputs": [],
   "source": [
    "d1 = g_lay([A,H])\n",
    "den = gcn.Dense(2, activation='softmax')"
   ]
  },
  {
   "cell_type": "code",
   "execution_count": null,
   "metadata": {},
   "outputs": [],
   "source": [
    "d2 = den( gcn.layers.Flatten()( d1 ) )\n",
    "model = gcn.Model(inputs = [A,H], outputs = [d2] )\n",
    "model.compile(optimizer='adam', loss ='categorical_crossentropy' ,metrics=['accuracy'])\n",
    "\n",
    "model.summary()\n"
   ]
  },
  {
   "cell_type": "markdown",
   "metadata": {},
   "source": [
    "## Classification model"
   ]
  },
  {
   "cell_type": "code",
   "execution_count": null,
   "metadata": {
    "collapsed": true
   },
   "outputs": [],
   "source": [
    "history = model.fit([Adjacencies[indices], h[indices]], to_categorical(labels[indices]), epochs= 100, validation_split=0.2 )"
   ]
  },
  {
   "cell_type": "code",
   "execution_count": null,
   "metadata": {},
   "outputs": [],
   "source": [
    "i = 20\n",
    "p = model.predict([Adjacencies[indices[-i:]], h[-i:]])\n",
    "plot(labels[indices[-i:]])\n",
    "plot(p[:,1])"
   ]
  },
  {
   "cell_type": "code",
   "execution_count": null,
   "metadata": {},
   "outputs": [],
   "source": [
    "for k in ['acc', 'val_acc']:\n",
    "    plot(history.history[k], label = k)\n",
    "    \n",
    "legend()"
   ]
  },
  {
   "cell_type": "markdown",
   "metadata": {},
   "source": [
    "# DAD only"
   ]
  },
  {
   "cell_type": "code",
   "execution_count": null,
   "metadata": {
    "collapsed": true
   },
   "outputs": [],
   "source": [
    "A,H = gcn.Input(shape = Adj_nodes_shuffled[0].shape), gcn.Input(h[0].shape)\n",
    "go = gcn.Graph_Operators()(A)\n",
    "\n",
    "g_lay = gcn.GCN(units= 3, activation = 'linear')\n",
    "\n",
    "# using A and DAD only\n",
    "d1 = gcn.GCN_List([go[-1]], inputs=[A,H], units = 1)[0]\n",
    "# c1 = gcn.Concatenate()(d1)\n"
   ]
  },
  {
   "cell_type": "code",
   "execution_count": null,
   "metadata": {},
   "outputs": [],
   "source": [
    "den = gcn.Dense(2, activation='softmax')\n",
    "d2 = den( gcn.layers.Flatten()( d1 ) )\n",
    "model = gcn.Model(inputs = [A,H], outputs = [d2] )\n",
    "model.compile(optimizer='adam', loss ='categorical_crossentropy' ,metrics=['accuracy'])\n",
    "\n",
    "model.summary()\n"
   ]
  },
  {
   "cell_type": "markdown",
   "metadata": {},
   "source": [
    "## Classification model"
   ]
  },
  {
   "cell_type": "code",
   "execution_count": null,
   "metadata": {},
   "outputs": [],
   "source": [
    "history = model.fit([Adjacencies[indices], h[indices]], to_categorical(labels[indices]), epochs= 150, validation_split=0.2 )"
   ]
  },
  {
   "cell_type": "code",
   "execution_count": null,
   "metadata": {},
   "outputs": [],
   "source": [
    "i = 20\n",
    "p = model.predict([Adjacencies[indices[-i:]], h[-i:]])\n",
    "plot(labels[indices[-i:]])\n",
    "plot(p[:,1])"
   ]
  },
  {
   "cell_type": "code",
   "execution_count": null,
   "metadata": {},
   "outputs": [],
   "source": [
    "for k in ['acc', 'val_acc']:\n",
    "    plot(history.history[k], label = k)\n",
    "    \n",
    "legend()"
   ]
  },
  {
   "cell_type": "markdown",
   "metadata": {},
   "source": [
    "# A, DAD"
   ]
  },
  {
   "cell_type": "code",
   "execution_count": null,
   "metadata": {
    "collapsed": true
   },
   "outputs": [],
   "source": [
    "A,H = gcn.Input(shape = Adj_nodes_shuffled[0].shape), gcn.Input(h[0].shape)\n",
    "go = gcn.Graph_Operators()(A)\n",
    "\n",
    "g_lay = gcn.GCN(units= 3, activation = 'linear')\n",
    "\n",
    "# using A and DAD only\n",
    "d1 = gcn.GCN_List([go[0], go[-1]], inputs=[A,H], units = 1)\n",
    "c1 = gcn.Concatenate()(d1)\n"
   ]
  },
  {
   "cell_type": "code",
   "execution_count": null,
   "metadata": {},
   "outputs": [],
   "source": [
    "den = gcn.Dense(2, activation='softmax')\n",
    "d2 = den( gcn.layers.Flatten()( c1 ) )\n",
    "model = gcn.Model(inputs = [A,H], outputs = [d2] )\n",
    "model.compile(optimizer='adam', loss ='categorical_crossentropy' ,metrics=['accuracy'])\n",
    "\n",
    "model.summary()\n"
   ]
  },
  {
   "cell_type": "markdown",
   "metadata": {},
   "source": [
    "## Classification model"
   ]
  },
  {
   "cell_type": "code",
   "execution_count": null,
   "metadata": {},
   "outputs": [],
   "source": [
    "history = model.fit([Adjacencies[indices], h[indices]], to_categorical(labels[indices]), epochs= 100, validation_split=0.2 )"
   ]
  },
  {
   "cell_type": "code",
   "execution_count": null,
   "metadata": {},
   "outputs": [],
   "source": [
    "i = 20\n",
    "p = model.predict([Adjacencies[indices[-i:]], h[-i:]])\n",
    "plot(labels[indices[-i:]])\n",
    "plot(p[:,1])"
   ]
  },
  {
   "cell_type": "code",
   "execution_count": null,
   "metadata": {},
   "outputs": [],
   "source": [
    "for k in ['acc', 'val_acc']:\n",
    "    plot(history.history[k], label = k)\n",
    "    \n",
    "legend()"
   ]
  },
  {
   "cell_type": "code",
   "execution_count": null,
   "metadata": {
    "collapsed": true
   },
   "outputs": [],
   "source": [
    "w,b = model.layers[-1].get_weights()"
   ]
  },
  {
   "cell_type": "code",
   "execution_count": null,
   "metadata": {},
   "outputs": [],
   "source": [
    "figure(figsize = (10,10))\n",
    "imshow(w, aspect = 0.01)"
   ]
  },
  {
   "cell_type": "code",
   "execution_count": null,
   "metadata": {},
   "outputs": [],
   "source": [
    "for i in range(n_nodes):\n",
    "    plot(w[i*units_final:(i+1)*units_final,0])\n",
    "    \n",
    "# plot(w0.mean(-1)+0*b[0], lw = 3)"
   ]
  },
  {
   "cell_type": "code",
   "execution_count": null,
   "metadata": {
    "collapsed": true
   },
   "outputs": [],
   "source": [
    "wd, bd = gcn_model.model.layers[-1].get_weights()"
   ]
  },
  {
   "cell_type": "code",
   "execution_count": null,
   "metadata": {},
   "outputs": [],
   "source": [
    "imshow(wd)\n",
    "colorbar()\n",
    "yticks(range(3), ['$A$', r'$\\hat{A}$', r'$\\hat{A}_S$'], fontsize = 14)\n",
    "xlabel('dense layer units', fontsize = 12)"
   ]
  },
  {
   "cell_type": "code",
   "execution_count": null,
   "metadata": {
    "collapsed": true
   },
   "outputs": [],
   "source": [
    "w0, b0 = gcn_model.model.layers[-2].get_weights()"
   ]
  },
  {
   "cell_type": "code",
   "execution_count": null,
   "metadata": {},
   "outputs": [],
   "source": [
    "imshow(w0.dot(wd))\n",
    "colorbar()\n",
    "yticks(range(3), ['$A$', r'$\\hat{A}$', r'$\\hat{A}_S$'], fontsize = 14)\n",
    "xlabel('dense layer units', fontsize = 12)"
   ]
  },
  {
   "cell_type": "code",
   "execution_count": null,
   "metadata": {
    "collapsed": true
   },
   "outputs": [],
   "source": []
  },
  {
   "cell_type": "code",
   "execution_count": null,
   "metadata": {},
   "outputs": [],
   "source": [
    "w.shape"
   ]
  },
  {
   "cell_type": "code",
   "execution_count": null,
   "metadata": {
    "collapsed": true
   },
   "outputs": [],
   "source": [
    "w0 = w[:,0].reshape((n_nodes,units_final))"
   ]
  },
  {
   "cell_type": "code",
   "execution_count": null,
   "metadata": {},
   "outputs": [],
   "source": [
    "plot(w0.mean(-1)+0*b[0])"
   ]
  },
  {
   "cell_type": "code",
   "execution_count": null,
   "metadata": {},
   "outputs": [],
   "source": [
    "b"
   ]
  },
  {
   "cell_type": "code",
   "execution_count": null,
   "metadata": {},
   "outputs": [],
   "source": [
    "for i in range(n_nodes):\n",
    "    plot(w[i*units_final:(i+1)*units_final,0])\n",
    "    \n",
    "# plot(w0.mean(-1)+0*b[0], lw = 3)"
   ]
  },
  {
   "cell_type": "code",
   "execution_count": null,
   "metadata": {},
   "outputs": [],
   "source": [
    "for i in range(units_final):\n",
    "    plot(w[i*n_nodes:(i+1)*n_nodes,0])\n",
    "    \n",
    "# plot(w0.mean(-1)+0*b[0], lw = 3)"
   ]
  },
  {
   "cell_type": "markdown",
   "metadata": {},
   "source": [
    "# Node-based version (O(1) parameters, no fully connected layer)"
   ]
  },
  {
   "cell_type": "code",
   "execution_count": null,
   "metadata": {},
   "outputs": [],
   "source": [
    "\n",
    "params = {'layers': 1, 'units': 1, 'bias': True, 'activation': 'linear'}\n",
    "    \n",
    "units = [params['units']] * params['layers']\n",
    "units_final = 2\n",
    "Adjacencies = Adj_nodes_shuffled\n",
    "\n",
    "labels = array(params_all)[:,0]\n",
    "\n",
    "indices = idx\n",
    "\n",
    "# import GraphConvNet as gcn\n",
    "gcn_model = gcn.MultiGCN(input_shape= moments[1][0].shape, units = units, \n",
    "                         output_shape= (Adjacencies.shape[1], units_final ) , # fix bug to allow units for final\n",
    "                         activation = params['activation'], skip = True, \n",
    "                         final_kwargs= {'activation': 'softmax'}, \n",
    "                     dense_kws={'use_bias':params['bias']},\n",
    "                       GCN_kws={'use_bias':params['bias']},\n",
    "                        )\n",
    "    \n",
    "\n",
    "gcn_model.model.summary()"
   ]
  },
  {
   "cell_type": "code",
   "execution_count": null,
   "metadata": {
    "collapsed": true
   },
   "outputs": [],
   "source": [
    "gcn_model.model.compile(optimizer='adam', loss ='categorical_crossentropy' ,metrics=['accuracy'])"
   ]
  },
  {
   "cell_type": "markdown",
   "metadata": {},
   "source": [
    "How can we combine or average over the first output of the previous dense layer? What do we do with the number of channels? \n",
    "Do we even want to keep all of those outputs? \n",
    "maybe if the last layer is only summing over all output it's enough? But then how do we get two different classes as output? \n",
    "We want a 2 dim output from the net. \n",
    "If the final Dense layer in GCN module was ones and also added over all the outputs, Maybe it would work?\n",
    "But how do we make it such that two outputs come out? \n",
    "We can do the dense layer after GCN, but we then want to sum that over the __node indices__ and then \n",
    "No, let's skip the last layer and directly pass the output of the gcn modules to a dense layer with ones."
   ]
  },
  {
   "cell_type": "code",
   "execution_count": null,
   "metadata": {},
   "outputs": [],
   "source": [
    "a1 = gcn.layers.Dense( gcn_model.model.output)\n",
    "a1"
   ]
  },
  {
   "cell_type": "code",
   "execution_count": null,
   "metadata": {},
   "outputs": [],
   "source": [
    "den = gcn.Dense(2, activation='softmax')\n",
    "d2 = den( gcn.layers.Flatten()( c1 ) )\n",
    "model = gcn.Model(inputs = [A,H], outputs = [d2] )\n",
    "model.compile(optimizer='adam', loss ='categorical_crossentropy' ,metrics=['accuracy'])\n",
    "\n",
    "model.summary()\n"
   ]
  },
  {
   "cell_type": "markdown",
   "metadata": {},
   "source": [
    "## Classification model"
   ]
  },
  {
   "cell_type": "code",
   "execution_count": null,
   "metadata": {},
   "outputs": [],
   "source": [
    "history = model.fit([Adjacencies[indices], h[indices]], to_categorical(labels[indices]), epochs= 100, validation_split=0.2 )"
   ]
  },
  {
   "cell_type": "code",
   "execution_count": null,
   "metadata": {},
   "outputs": [],
   "source": [
    "i = 20\n",
    "p = model.predict([Adjacencies[indices[-i:]], h[-i:]])\n",
    "plot(labels[indices[-i:]])\n",
    "plot(p[:,1])"
   ]
  },
  {
   "cell_type": "code",
   "execution_count": null,
   "metadata": {},
   "outputs": [],
   "source": [
    "for k in ['acc', 'val_acc']:\n",
    "    plot(history.history[k], label = k)\n",
    "    \n",
    "legend()"
   ]
  },
  {
   "cell_type": "code",
   "execution_count": null,
   "metadata": {
    "collapsed": true
   },
   "outputs": [],
   "source": [
    "w,b = model.layers[-1].get_weights()"
   ]
  },
  {
   "cell_type": "markdown",
   "metadata": {},
   "source": [
    "# Randomizing links (configuration model)\n",
    "\n",
    "To test the ability of the GCN to distinguish between different network architectures we should scramble the same network and see if it is able to pick up graph properties related to how the links are connected, rather than the number of links"
   ]
  },
  {
   "cell_type": "code",
   "execution_count": null,
   "metadata": {
    "collapsed": true
   },
   "outputs": [],
   "source": [
    "a = Adj_all[0]\n",
    "b = nx.configuration_model(int0(a.sum(0)))"
   ]
  },
  {
   "cell_type": "code",
   "execution_count": null,
   "metadata": {
    "collapsed": true
   },
   "outputs": [],
   "source": [
    "n = len(a)\n",
    "ad = zeros((n,n), dtype=np.float32)\n",
    "for i in b.edges:\n",
    "    ad[i[:2]] = 1\n",
    "    ad[i[:2][::-1]] = 1"
   ]
  },
  {
   "cell_type": "code",
   "execution_count": null,
   "metadata": {},
   "outputs": [],
   "source": [
    "imshow(a)"
   ]
  },
  {
   "cell_type": "code",
   "execution_count": null,
   "metadata": {},
   "outputs": [],
   "source": [
    "imshow(ad)"
   ]
  },
  {
   "cell_type": "code",
   "execution_count": null,
   "metadata": {},
   "outputs": [],
   "source": [
    "plot(a.sum(0))\n",
    "plot(ad.sum(0))"
   ]
  },
  {
   "cell_type": "code",
   "execution_count": null,
   "metadata": {},
   "outputs": [],
   "source": [
    "ad.sum(), a.sum()"
   ]
  },
  {
   "cell_type": "code",
   "execution_count": null,
   "metadata": {},
   "outputs": [],
   "source": [
    "imshow(a.dot(a))"
   ]
  },
  {
   "cell_type": "code",
   "execution_count": null,
   "metadata": {},
   "outputs": [],
   "source": [
    "imshow(ad.dot(ad)-a.dot(a))\n",
    "colorbar()"
   ]
  },
  {
   "cell_type": "code",
   "execution_count": null,
   "metadata": {},
   "outputs": [],
   "source": [
    "subplot(aspect = 1)\n",
    "plot(a.dot(a).sum(0),ad.dot(ad).sum(0), 'o')\n",
    "xlabel('BA')\n",
    "ylabel('Config BA')"
   ]
  },
  {
   "cell_type": "code",
   "execution_count": null,
   "metadata": {},
   "outputs": [],
   "source": [
    "subplot(aspect = 1)\n",
    "plot(a.sum(0),ad.sum(0), 'o')\n",
    "xlabel('BA')\n",
    "ylabel('Config BA')"
   ]
  },
  {
   "cell_type": "code",
   "execution_count": null,
   "metadata": {},
   "outputs": [],
   "source": [
    "for i in range(1,6):\n",
    "    figure(figsize=(10,4))\n",
    "    subplot(121, aspect = 1)\n",
    "    plot(matrix_power(a,i).sum(0),matrix_power(ad,i).sum(0), 'o')\n",
    "    title( 'Moment %d' %i)\n",
    "    xlabel('BA')\n",
    "    ylabel('Config BA')\n",
    "    subplot(122)\n",
    "    plot(matrix_power(a,i).sum(0),label='BA')\n",
    "    plot(matrix_power(ad,i).sum(0), label='Config BA')\n",
    "    \n",
    "    show()\n",
    "    "
   ]
  },
  {
   "cell_type": "code",
   "execution_count": null,
   "metadata": {},
   "outputs": [],
   "source": [
    "for i in range(1,6):\n",
    "    figure(figsize=(10,4))\n",
    "    subplot(121, aspect = 1)\n",
    "    plot(matrix_power(a,i).sum(0),matrix_power(a2,i).sum(0), 'o')\n",
    "    title( 'Moment %d' %i)\n",
    "    xlabel('BA')\n",
    "    ylabel('Config BA')\n",
    "    subplot(122)\n",
    "    plot(matrix_power(a,i).sum(0),label='BA')\n",
    "    plot(matrix_power(a2,i).sum(0), label='Config BA')\n",
    "    \n",
    "    show()\n",
    "    "
   ]
  },
  {
   "cell_type": "code",
   "execution_count": null,
   "metadata": {
    "collapsed": true
   },
   "outputs": [],
   "source": [
    "ei = eigh(a)\n",
    "ei2 = eigh(a2)"
   ]
  },
  {
   "cell_type": "code",
   "execution_count": null,
   "metadata": {},
   "outputs": [],
   "source": [
    "hist([ei[0],ei2[0]],20);\n",
    "# hist(ei2[0],20);"
   ]
  },
  {
   "cell_type": "code",
   "execution_count": null,
   "metadata": {
    "collapsed": true
   },
   "outputs": [],
   "source": [
    "n = 40\n",
    "make_BA_dataset()"
   ]
  },
  {
   "cell_type": "code",
   "execution_count": null,
   "metadata": {},
   "outputs": [],
   "source": [
    "# knock out links from BA to make config exactly the same\n",
    "ix = where(a.sum(0)>ad.sum(0))[0]\n",
    "len(ix)"
   ]
  },
  {
   "cell_type": "code",
   "execution_count": null,
   "metadata": {},
   "outputs": [],
   "source": [
    "a.sum()-ad.sum()"
   ]
  },
  {
   "cell_type": "code",
   "execution_count": null,
   "metadata": {
    "collapsed": true
   },
   "outputs": [],
   "source": []
  },
  {
   "cell_type": "code",
   "execution_count": null,
   "metadata": {},
   "outputs": [],
   "source": [
    "# mask\n",
    "ms = 1.*(a.sum(0)>ad.sum(0))\n",
    "mask= ms[newaxis]*ms[:,newaxis]\n",
    "imshow(mask*a)"
   ]
  },
  {
   "cell_type": "code",
   "execution_count": null,
   "metadata": {},
   "outputs": [],
   "source": [
    "# mask\n",
    "ms = (a.sum(0)-ad.sum(0))*(a.sum(0)>ad.sum(0))\n",
    "mask= ms[newaxis]*ms[:,newaxis]\n",
    "imshow(mask*a)"
   ]
  },
  {
   "cell_type": "code",
   "execution_count": null,
   "metadata": {},
   "outputs": [],
   "source": [
    "imshow(a)"
   ]
  },
  {
   "cell_type": "code",
   "execution_count": null,
   "metadata": {},
   "outputs": [],
   "source": [
    "imshow(ad)"
   ]
  },
  {
   "cell_type": "code",
   "execution_count": null,
   "metadata": {},
   "outputs": [],
   "source": [
    "ad.sum(), ad.diagonal().sum()"
   ]
  },
  {
   "cell_type": "code",
   "execution_count": null,
   "metadata": {},
   "outputs": [],
   "source": [
    "imshow(triu(a))"
   ]
  },
  {
   "cell_type": "code",
   "execution_count": null,
   "metadata": {},
   "outputs": [],
   "source": [
    "# Configuration model\n",
    "# 1. build the incidence matrix \n",
    "a.sum()/2"
   ]
  },
  {
   "cell_type": "code",
   "execution_count": null,
   "metadata": {
    "collapsed": true
   },
   "outputs": [],
   "source": [
    "ix = where(triu(a))"
   ]
  },
  {
   "cell_type": "code",
   "execution_count": null,
   "metadata": {},
   "outputs": [],
   "source": [
    "len(ix[0])"
   ]
  },
  {
   "cell_type": "code",
   "execution_count": null,
   "metadata": {
    "collapsed": true
   },
   "outputs": [],
   "source": [
    "edg = array(list(zip(*ix)))"
   ]
  },
  {
   "cell_type": "code",
   "execution_count": null,
   "metadata": {
    "collapsed": true
   },
   "outputs": [],
   "source": [
    "incid = np.zeros((len(a), len(edg)), dtype=np.float32)\n",
    "\n",
    "for _,[i,j] in enumerate(edg): \n",
    "    incid[i,_] = 1\n",
    "    incid[j,_] = -1"
   ]
  },
  {
   "cell_type": "code",
   "execution_count": null,
   "metadata": {},
   "outputs": [],
   "source": [
    "imshow(configuration_model_1(a))\n",
    "colorbar()"
   ]
  },
  {
   "cell_type": "code",
   "execution_count": null,
   "metadata": {
    "collapsed": true
   },
   "outputs": [],
   "source": []
  },
  {
   "cell_type": "code",
   "execution_count": null,
   "metadata": {
    "collapsed": true
   },
   "outputs": [],
   "source": [
    "incid = get_incidence(a)"
   ]
  },
  {
   "cell_type": "code",
   "execution_count": null,
   "metadata": {},
   "outputs": [],
   "source": [
    "imshow(incid)"
   ]
  },
  {
   "cell_type": "code",
   "execution_count": null,
   "metadata": {},
   "outputs": [],
   "source": [
    "l = incid.dot(incid.T)\n",
    "d = l.diagonal() \n",
    "imshow(diag(d)-l)"
   ]
  },
  {
   "cell_type": "code",
   "execution_count": null,
   "metadata": {},
   "outputs": [],
   "source": [
    "neg = where(incid < 0)\n",
    "neg"
   ]
  },
  {
   "cell_type": "code",
   "execution_count": null,
   "metadata": {
    "collapsed": true
   },
   "outputs": [],
   "source": [
    "# preserve the rows, to preserve node degree, but shuffle columns, to shuffle links\n",
    "shuffle(neg[1])"
   ]
  },
  {
   "cell_type": "code",
   "execution_count": null,
   "metadata": {},
   "outputs": [],
   "source": [
    "neg"
   ]
  },
  {
   "cell_type": "code",
   "execution_count": null,
   "metadata": {},
   "outputs": [],
   "source": [
    "incid2 = 1.* (incid> 0 )\n",
    "imshow(incid2)\n",
    "incid2[neg] -= 1"
   ]
  },
  {
   "cell_type": "code",
   "execution_count": null,
   "metadata": {
    "collapsed": true
   },
   "outputs": [],
   "source": [
    "incid2[neg] -= 1"
   ]
  },
  {
   "cell_type": "code",
   "execution_count": null,
   "metadata": {},
   "outputs": [],
   "source": [
    "imshow(incid2)\n",
    "# colorbar()"
   ]
  },
  {
   "cell_type": "code",
   "execution_count": null,
   "metadata": {},
   "outputs": [],
   "source": [
    "abs(incid2).sum(0)"
   ]
  },
  {
   "cell_type": "code",
   "execution_count": null,
   "metadata": {},
   "outputs": [],
   "source": [
    "abs(incid).sum()/2"
   ]
  },
  {
   "cell_type": "code",
   "execution_count": null,
   "metadata": {},
   "outputs": [],
   "source": [
    "abs(incid2).sum()/2"
   ]
  },
  {
   "cell_type": "code",
   "execution_count": null,
   "metadata": {},
   "outputs": [],
   "source": [
    "plot(abs(incid).sum(1), label='actual degrees')\n",
    "plot(abs(incid2).sum(1), label='config degrees')"
   ]
  },
  {
   "cell_type": "code",
   "execution_count": null,
   "metadata": {},
   "outputs": [],
   "source": [
    "l2 = incid2.dot(incid2.T)\n",
    "d2 = l2.diagonal() \n",
    "a2 = diag(d2)-l2\n",
    "a3 = (1*(a2>0))\n",
    "\n",
    "imshow(diag(d2)-l2)\n",
    "\n",
    "colorbar()"
   ]
  },
  {
   "cell_type": "code",
   "execution_count": null,
   "metadata": {
    "collapsed": true
   },
   "outputs": [],
   "source": [
    "a2 = diag(d2)-l2\n",
    "a3 = (1*(a2>0))"
   ]
  },
  {
   "cell_type": "code",
   "execution_count": null,
   "metadata": {},
   "outputs": [],
   "source": [
    "a3.sum()"
   ]
  },
  {
   "cell_type": "code",
   "execution_count": null,
   "metadata": {
    "collapsed": true
   },
   "outputs": [],
   "source": []
  }
 ],
 "metadata": {
  "kernelspec": {
   "display_name": "Python 3",
   "language": "python",
   "name": "python3"
  },
  "language_info": {
   "codemirror_mode": {
    "name": "ipython",
    "version": 3
   },
   "file_extension": ".py",
   "mimetype": "text/x-python",
   "name": "python",
   "nbconvert_exporter": "python",
   "pygments_lexer": "ipython3",
   "version": "3.6.1"
  }
 },
 "nbformat": 4,
 "nbformat_minor": 2
}
